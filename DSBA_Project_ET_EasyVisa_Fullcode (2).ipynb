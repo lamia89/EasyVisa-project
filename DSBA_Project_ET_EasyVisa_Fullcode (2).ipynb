{
  "cells": [
    {
      "cell_type": "markdown",
      "metadata": {
        "id": "AT5OogJVFbwu"
      },
      "source": [
        "# EasyVisa Project\n",
        "\n",
        "## Context:\n",
        "\n",
        "Business communities in the United States are facing high demand for human resources, but one of the constant challenges is identifying and attracting the right talent, which is perhaps the most important element in remaining competitive. Companies in the United States look for hard-working, talented, and qualified individuals both locally as well as abroad.\n",
        "\n",
        "The Immigration and Nationality Act (INA) of the US permits foreign workers to come to the United States to work on either a temporary or permanent basis. The act also protects US workers against adverse impacts on their wages or working conditions by ensuring US employers' compliance with statutory requirements when they hire foreign workers to fill workforce shortages. The immigration programs are administered by the Office of Foreign Labor Certification (OFLC).\n",
        "\n",
        "OFLC processes job certification applications for employers seeking to bring foreign workers into the United States and grants certifications in those cases where employers can demonstrate that there are not sufficient US workers available to perform the work at wages that meet or exceed the wage paid for the occupation in the area of intended employment.\n",
        "\n",
        "## Objective:\n",
        "\n",
        "In FY 2016, the OFLC processed 775,979 employer applications for 1,699,957 positions for temporary and permanent labor certifications. This was a nine percent increase in the overall number of processed applications from the previous year. The process of reviewing every case is becoming a tedious task as the number of applicants is increasing every year.\n",
        "\n",
        "The increasing number of applicants every year calls for a Machine Learning based solution that can help in shortlisting the candidates having higher chances of VISA approval. OFLC has hired your firm EasyVisa for data-driven solutions. You as a data scientist have to analyze the data provided and, with the help of a classification model:\n",
        "\n",
        "* Facilitate the process of visa approvals.\n",
        "* Recommend a suitable profile for the applicants for whom the visa should be certified or denied based on the drivers that significantly influence the case status. \n",
        "\n",
        "\n",
        "## Data Description\n",
        "\n",
        "The data contains the different attributes of the employee and the employer. The detailed data dictionary is given below.\n",
        "\n",
        "* case_id: ID of each visa application\n",
        "* continent: Information of continent the employee\n",
        "* education_of_employee: Information of education of the employee\n",
        "* has_job_experience: Does the employee has any job experience? Y= Yes; N = No\n",
        "* requires_job_training: Does the employee require any job training? Y = Yes; N = No \n",
        "* no_of_employees: Number of employees in the employer's company\n",
        "* yr_of_estab: Year in which the employer's company was established\n",
        "* region_of_employment: Information of foreign worker's intended region of employment in the US.\n",
        "* prevailing_wage:  Average wage paid to similarly employed workers in a specific occupation in the area of intended employment. The purpose of the prevailing wage is to ensure that the foreign worker is not underpaid compared to other workers offering the same or similar service in the same area of employment. \n",
        "* unit_of_wage: Unit of prevailing wage. Values include Hourly, Weekly, Monthly, and Yearly.\n",
        "* full_time_position: Is the position of work full-time? Y = Full Time Position; N = Part Time Position\n",
        "* case_status:  Flag indicating if the Visa was certified or denied"
      ],
      "id": "AT5OogJVFbwu"
    },
    {
      "cell_type": "markdown",
      "metadata": {
        "id": "dirty-island"
      },
      "source": [
        "## Importing necessary libraries and data"
      ],
      "id": "dirty-island"
    },
    {
      "cell_type": "code",
      "execution_count": 1,
      "metadata": {
        "id": "statewide-still"
      },
      "outputs": [],
      "source": [
        "# Library to suppress warnings or deprecation notes \n",
        "import warnings\n",
        "warnings.filterwarnings('ignore')\n",
        "\n",
        "# Libraries to help with reading and manipulating data\n",
        "import numpy as np\n",
        "import pandas as pd\n",
        "\n",
        "# Libraries to help with data visualization\n",
        "import matplotlib.pyplot as plt\n",
        "%matplotlib inline\n",
        "import seaborn as sns\n",
        "\n",
        "# Libraries to split data, impute missing values \n",
        "from sklearn.model_selection import train_test_split\n",
        "from sklearn.impute import SimpleImputer\n",
        "\n",
        "# Libraries to import decision tree classifier and different ensemble classifiers\n",
        "from sklearn.ensemble import BaggingClassifier\n",
        "from sklearn.ensemble import RandomForestClassifier\n",
        "from sklearn.ensemble import AdaBoostClassifier, GradientBoostingClassifier\n",
        "from xgboost import XGBClassifier\n",
        "from sklearn.ensemble import StackingClassifier\n",
        "from sklearn.tree import DecisionTreeClassifier\n",
        "\n",
        "# Libtune to tune model, get different metric scores\n",
        "from sklearn import metrics\n",
        "from sklearn.metrics import confusion_matrix, classification_report, accuracy_score, precision_score, recall_score, f1_score, roc_auc_score\n",
        "from sklearn.model_selection import GridSearchCV"
      ],
      "id": "statewide-still"
    },
    {
      "cell_type": "markdown",
      "metadata": {
        "id": "desperate-infection"
      },
      "source": [
        "## Data Overview\n",
        "\n",
        "- Observations\n",
        "- Sanity checks"
      ],
      "id": "desperate-infection"
    },
    {
      "cell_type": "code",
      "execution_count": 2,
      "metadata": {
        "id": "persistent-juice"
      },
      "outputs": [],
      "source": [
        "visa= pd.read_csv('EasyVisa.csv')"
      ],
      "id": "persistent-juice"
    },
    {
      "cell_type": "code",
      "execution_count": 3,
      "metadata": {
        "id": "qpzBKNvBD8md"
      },
      "outputs": [],
      "source": [
        "data= visa.copy()"
      ],
      "id": "qpzBKNvBD8md"
    },
    {
      "cell_type": "code",
      "execution_count": 4,
      "metadata": {
        "colab": {
          "base_uri": "https://localhost:8080/",
          "height": 270
        },
        "id": "frUzcXXWHN0i",
        "outputId": "2e522d32-02a2-41a6-f8a0-b188ddc4a837"
      },
      "outputs": [
        {
          "output_type": "execute_result",
          "data": {
            "text/plain": [
              "  case_id continent education_of_employee has_job_experience  \\\n",
              "0  EZYV01      Asia           High School                  N   \n",
              "1  EZYV02      Asia              Master's                  Y   \n",
              "2  EZYV03      Asia            Bachelor's                  N   \n",
              "3  EZYV04      Asia            Bachelor's                  N   \n",
              "4  EZYV05    Africa              Master's                  Y   \n",
              "\n",
              "  requires_job_training  no_of_employees  yr_of_estab region_of_employment  \\\n",
              "0                     N            14513         2007                 West   \n",
              "1                     N             2412         2002            Northeast   \n",
              "2                     Y            44444         2008                 West   \n",
              "3                     N               98         1897                 West   \n",
              "4                     N             1082         2005                South   \n",
              "\n",
              "   prevailing_wage unit_of_wage full_time_position case_status  \n",
              "0         592.2029         Hour                  Y      Denied  \n",
              "1       83425.6500         Year                  Y   Certified  \n",
              "2      122996.8600         Year                  Y      Denied  \n",
              "3       83434.0300         Year                  Y      Denied  \n",
              "4      149907.3900         Year                  Y   Certified  "
            ],
            "text/html": [
              "\n",
              "  <div id=\"df-829d2eb8-562e-43ec-92e6-a2dbcff12a98\">\n",
              "    <div class=\"colab-df-container\">\n",
              "      <div>\n",
              "<style scoped>\n",
              "    .dataframe tbody tr th:only-of-type {\n",
              "        vertical-align: middle;\n",
              "    }\n",
              "\n",
              "    .dataframe tbody tr th {\n",
              "        vertical-align: top;\n",
              "    }\n",
              "\n",
              "    .dataframe thead th {\n",
              "        text-align: right;\n",
              "    }\n",
              "</style>\n",
              "<table border=\"1\" class=\"dataframe\">\n",
              "  <thead>\n",
              "    <tr style=\"text-align: right;\">\n",
              "      <th></th>\n",
              "      <th>case_id</th>\n",
              "      <th>continent</th>\n",
              "      <th>education_of_employee</th>\n",
              "      <th>has_job_experience</th>\n",
              "      <th>requires_job_training</th>\n",
              "      <th>no_of_employees</th>\n",
              "      <th>yr_of_estab</th>\n",
              "      <th>region_of_employment</th>\n",
              "      <th>prevailing_wage</th>\n",
              "      <th>unit_of_wage</th>\n",
              "      <th>full_time_position</th>\n",
              "      <th>case_status</th>\n",
              "    </tr>\n",
              "  </thead>\n",
              "  <tbody>\n",
              "    <tr>\n",
              "      <th>0</th>\n",
              "      <td>EZYV01</td>\n",
              "      <td>Asia</td>\n",
              "      <td>High School</td>\n",
              "      <td>N</td>\n",
              "      <td>N</td>\n",
              "      <td>14513</td>\n",
              "      <td>2007</td>\n",
              "      <td>West</td>\n",
              "      <td>592.2029</td>\n",
              "      <td>Hour</td>\n",
              "      <td>Y</td>\n",
              "      <td>Denied</td>\n",
              "    </tr>\n",
              "    <tr>\n",
              "      <th>1</th>\n",
              "      <td>EZYV02</td>\n",
              "      <td>Asia</td>\n",
              "      <td>Master's</td>\n",
              "      <td>Y</td>\n",
              "      <td>N</td>\n",
              "      <td>2412</td>\n",
              "      <td>2002</td>\n",
              "      <td>Northeast</td>\n",
              "      <td>83425.6500</td>\n",
              "      <td>Year</td>\n",
              "      <td>Y</td>\n",
              "      <td>Certified</td>\n",
              "    </tr>\n",
              "    <tr>\n",
              "      <th>2</th>\n",
              "      <td>EZYV03</td>\n",
              "      <td>Asia</td>\n",
              "      <td>Bachelor's</td>\n",
              "      <td>N</td>\n",
              "      <td>Y</td>\n",
              "      <td>44444</td>\n",
              "      <td>2008</td>\n",
              "      <td>West</td>\n",
              "      <td>122996.8600</td>\n",
              "      <td>Year</td>\n",
              "      <td>Y</td>\n",
              "      <td>Denied</td>\n",
              "    </tr>\n",
              "    <tr>\n",
              "      <th>3</th>\n",
              "      <td>EZYV04</td>\n",
              "      <td>Asia</td>\n",
              "      <td>Bachelor's</td>\n",
              "      <td>N</td>\n",
              "      <td>N</td>\n",
              "      <td>98</td>\n",
              "      <td>1897</td>\n",
              "      <td>West</td>\n",
              "      <td>83434.0300</td>\n",
              "      <td>Year</td>\n",
              "      <td>Y</td>\n",
              "      <td>Denied</td>\n",
              "    </tr>\n",
              "    <tr>\n",
              "      <th>4</th>\n",
              "      <td>EZYV05</td>\n",
              "      <td>Africa</td>\n",
              "      <td>Master's</td>\n",
              "      <td>Y</td>\n",
              "      <td>N</td>\n",
              "      <td>1082</td>\n",
              "      <td>2005</td>\n",
              "      <td>South</td>\n",
              "      <td>149907.3900</td>\n",
              "      <td>Year</td>\n",
              "      <td>Y</td>\n",
              "      <td>Certified</td>\n",
              "    </tr>\n",
              "  </tbody>\n",
              "</table>\n",
              "</div>\n",
              "      <button class=\"colab-df-convert\" onclick=\"convertToInteractive('df-829d2eb8-562e-43ec-92e6-a2dbcff12a98')\"\n",
              "              title=\"Convert this dataframe to an interactive table.\"\n",
              "              style=\"display:none;\">\n",
              "        \n",
              "  <svg xmlns=\"http://www.w3.org/2000/svg\" height=\"24px\"viewBox=\"0 0 24 24\"\n",
              "       width=\"24px\">\n",
              "    <path d=\"M0 0h24v24H0V0z\" fill=\"none\"/>\n",
              "    <path d=\"M18.56 5.44l.94 2.06.94-2.06 2.06-.94-2.06-.94-.94-2.06-.94 2.06-2.06.94zm-11 1L8.5 8.5l.94-2.06 2.06-.94-2.06-.94L8.5 2.5l-.94 2.06-2.06.94zm10 10l.94 2.06.94-2.06 2.06-.94-2.06-.94-.94-2.06-.94 2.06-2.06.94z\"/><path d=\"M17.41 7.96l-1.37-1.37c-.4-.4-.92-.59-1.43-.59-.52 0-1.04.2-1.43.59L10.3 9.45l-7.72 7.72c-.78.78-.78 2.05 0 2.83L4 21.41c.39.39.9.59 1.41.59.51 0 1.02-.2 1.41-.59l7.78-7.78 2.81-2.81c.8-.78.8-2.07 0-2.86zM5.41 20L4 18.59l7.72-7.72 1.47 1.35L5.41 20z\"/>\n",
              "  </svg>\n",
              "      </button>\n",
              "      \n",
              "  <style>\n",
              "    .colab-df-container {\n",
              "      display:flex;\n",
              "      flex-wrap:wrap;\n",
              "      gap: 12px;\n",
              "    }\n",
              "\n",
              "    .colab-df-convert {\n",
              "      background-color: #E8F0FE;\n",
              "      border: none;\n",
              "      border-radius: 50%;\n",
              "      cursor: pointer;\n",
              "      display: none;\n",
              "      fill: #1967D2;\n",
              "      height: 32px;\n",
              "      padding: 0 0 0 0;\n",
              "      width: 32px;\n",
              "    }\n",
              "\n",
              "    .colab-df-convert:hover {\n",
              "      background-color: #E2EBFA;\n",
              "      box-shadow: 0px 1px 2px rgba(60, 64, 67, 0.3), 0px 1px 3px 1px rgba(60, 64, 67, 0.15);\n",
              "      fill: #174EA6;\n",
              "    }\n",
              "\n",
              "    [theme=dark] .colab-df-convert {\n",
              "      background-color: #3B4455;\n",
              "      fill: #D2E3FC;\n",
              "    }\n",
              "\n",
              "    [theme=dark] .colab-df-convert:hover {\n",
              "      background-color: #434B5C;\n",
              "      box-shadow: 0px 1px 3px 1px rgba(0, 0, 0, 0.15);\n",
              "      filter: drop-shadow(0px 1px 2px rgba(0, 0, 0, 0.3));\n",
              "      fill: #FFFFFF;\n",
              "    }\n",
              "  </style>\n",
              "\n",
              "      <script>\n",
              "        const buttonEl =\n",
              "          document.querySelector('#df-829d2eb8-562e-43ec-92e6-a2dbcff12a98 button.colab-df-convert');\n",
              "        buttonEl.style.display =\n",
              "          google.colab.kernel.accessAllowed ? 'block' : 'none';\n",
              "\n",
              "        async function convertToInteractive(key) {\n",
              "          const element = document.querySelector('#df-829d2eb8-562e-43ec-92e6-a2dbcff12a98');\n",
              "          const dataTable =\n",
              "            await google.colab.kernel.invokeFunction('convertToInteractive',\n",
              "                                                     [key], {});\n",
              "          if (!dataTable) return;\n",
              "\n",
              "          const docLinkHtml = 'Like what you see? Visit the ' +\n",
              "            '<a target=\"_blank\" href=https://colab.research.google.com/notebooks/data_table.ipynb>data table notebook</a>'\n",
              "            + ' to learn more about interactive tables.';\n",
              "          element.innerHTML = '';\n",
              "          dataTable['output_type'] = 'display_data';\n",
              "          await google.colab.output.renderOutput(dataTable, element);\n",
              "          const docLink = document.createElement('div');\n",
              "          docLink.innerHTML = docLinkHtml;\n",
              "          element.appendChild(docLink);\n",
              "        }\n",
              "      </script>\n",
              "    </div>\n",
              "  </div>\n",
              "  "
            ]
          },
          "metadata": {},
          "execution_count": 4
        }
      ],
      "source": [
        "data.head()"
      ],
      "id": "frUzcXXWHN0i"
    },
    {
      "cell_type": "code",
      "execution_count": 5,
      "metadata": {
        "colab": {
          "base_uri": "https://localhost:8080/",
          "height": 270
        },
        "id": "9hBFfZKWHN2s",
        "outputId": "31b73805-f05a-45c5-a139-6dbabee8a56e"
      },
      "outputs": [
        {
          "output_type": "execute_result",
          "data": {
            "text/plain": [
              "         case_id continent education_of_employee has_job_experience  \\\n",
              "25475  EZYV25476      Asia            Bachelor's                  Y   \n",
              "25476  EZYV25477      Asia           High School                  Y   \n",
              "25477  EZYV25478      Asia              Master's                  Y   \n",
              "25478  EZYV25479      Asia              Master's                  Y   \n",
              "25479  EZYV25480      Asia            Bachelor's                  Y   \n",
              "\n",
              "      requires_job_training  no_of_employees  yr_of_estab  \\\n",
              "25475                     Y             2601         2008   \n",
              "25476                     N             3274         2006   \n",
              "25477                     N             1121         1910   \n",
              "25478                     Y             1918         1887   \n",
              "25479                     N             3195         1960   \n",
              "\n",
              "      region_of_employment  prevailing_wage unit_of_wage full_time_position  \\\n",
              "25475                South         77092.57         Year                  Y   \n",
              "25476            Northeast        279174.79         Year                  Y   \n",
              "25477                South        146298.85         Year                  N   \n",
              "25478                 West         86154.77         Year                  Y   \n",
              "25479              Midwest         70876.91         Year                  Y   \n",
              "\n",
              "      case_status  \n",
              "25475   Certified  \n",
              "25476   Certified  \n",
              "25477   Certified  \n",
              "25478   Certified  \n",
              "25479   Certified  "
            ],
            "text/html": [
              "\n",
              "  <div id=\"df-4d16cc16-2ec9-445b-8bc4-8a1408ed39a3\">\n",
              "    <div class=\"colab-df-container\">\n",
              "      <div>\n",
              "<style scoped>\n",
              "    .dataframe tbody tr th:only-of-type {\n",
              "        vertical-align: middle;\n",
              "    }\n",
              "\n",
              "    .dataframe tbody tr th {\n",
              "        vertical-align: top;\n",
              "    }\n",
              "\n",
              "    .dataframe thead th {\n",
              "        text-align: right;\n",
              "    }\n",
              "</style>\n",
              "<table border=\"1\" class=\"dataframe\">\n",
              "  <thead>\n",
              "    <tr style=\"text-align: right;\">\n",
              "      <th></th>\n",
              "      <th>case_id</th>\n",
              "      <th>continent</th>\n",
              "      <th>education_of_employee</th>\n",
              "      <th>has_job_experience</th>\n",
              "      <th>requires_job_training</th>\n",
              "      <th>no_of_employees</th>\n",
              "      <th>yr_of_estab</th>\n",
              "      <th>region_of_employment</th>\n",
              "      <th>prevailing_wage</th>\n",
              "      <th>unit_of_wage</th>\n",
              "      <th>full_time_position</th>\n",
              "      <th>case_status</th>\n",
              "    </tr>\n",
              "  </thead>\n",
              "  <tbody>\n",
              "    <tr>\n",
              "      <th>25475</th>\n",
              "      <td>EZYV25476</td>\n",
              "      <td>Asia</td>\n",
              "      <td>Bachelor's</td>\n",
              "      <td>Y</td>\n",
              "      <td>Y</td>\n",
              "      <td>2601</td>\n",
              "      <td>2008</td>\n",
              "      <td>South</td>\n",
              "      <td>77092.57</td>\n",
              "      <td>Year</td>\n",
              "      <td>Y</td>\n",
              "      <td>Certified</td>\n",
              "    </tr>\n",
              "    <tr>\n",
              "      <th>25476</th>\n",
              "      <td>EZYV25477</td>\n",
              "      <td>Asia</td>\n",
              "      <td>High School</td>\n",
              "      <td>Y</td>\n",
              "      <td>N</td>\n",
              "      <td>3274</td>\n",
              "      <td>2006</td>\n",
              "      <td>Northeast</td>\n",
              "      <td>279174.79</td>\n",
              "      <td>Year</td>\n",
              "      <td>Y</td>\n",
              "      <td>Certified</td>\n",
              "    </tr>\n",
              "    <tr>\n",
              "      <th>25477</th>\n",
              "      <td>EZYV25478</td>\n",
              "      <td>Asia</td>\n",
              "      <td>Master's</td>\n",
              "      <td>Y</td>\n",
              "      <td>N</td>\n",
              "      <td>1121</td>\n",
              "      <td>1910</td>\n",
              "      <td>South</td>\n",
              "      <td>146298.85</td>\n",
              "      <td>Year</td>\n",
              "      <td>N</td>\n",
              "      <td>Certified</td>\n",
              "    </tr>\n",
              "    <tr>\n",
              "      <th>25478</th>\n",
              "      <td>EZYV25479</td>\n",
              "      <td>Asia</td>\n",
              "      <td>Master's</td>\n",
              "      <td>Y</td>\n",
              "      <td>Y</td>\n",
              "      <td>1918</td>\n",
              "      <td>1887</td>\n",
              "      <td>West</td>\n",
              "      <td>86154.77</td>\n",
              "      <td>Year</td>\n",
              "      <td>Y</td>\n",
              "      <td>Certified</td>\n",
              "    </tr>\n",
              "    <tr>\n",
              "      <th>25479</th>\n",
              "      <td>EZYV25480</td>\n",
              "      <td>Asia</td>\n",
              "      <td>Bachelor's</td>\n",
              "      <td>Y</td>\n",
              "      <td>N</td>\n",
              "      <td>3195</td>\n",
              "      <td>1960</td>\n",
              "      <td>Midwest</td>\n",
              "      <td>70876.91</td>\n",
              "      <td>Year</td>\n",
              "      <td>Y</td>\n",
              "      <td>Certified</td>\n",
              "    </tr>\n",
              "  </tbody>\n",
              "</table>\n",
              "</div>\n",
              "      <button class=\"colab-df-convert\" onclick=\"convertToInteractive('df-4d16cc16-2ec9-445b-8bc4-8a1408ed39a3')\"\n",
              "              title=\"Convert this dataframe to an interactive table.\"\n",
              "              style=\"display:none;\">\n",
              "        \n",
              "  <svg xmlns=\"http://www.w3.org/2000/svg\" height=\"24px\"viewBox=\"0 0 24 24\"\n",
              "       width=\"24px\">\n",
              "    <path d=\"M0 0h24v24H0V0z\" fill=\"none\"/>\n",
              "    <path d=\"M18.56 5.44l.94 2.06.94-2.06 2.06-.94-2.06-.94-.94-2.06-.94 2.06-2.06.94zm-11 1L8.5 8.5l.94-2.06 2.06-.94-2.06-.94L8.5 2.5l-.94 2.06-2.06.94zm10 10l.94 2.06.94-2.06 2.06-.94-2.06-.94-.94-2.06-.94 2.06-2.06.94z\"/><path d=\"M17.41 7.96l-1.37-1.37c-.4-.4-.92-.59-1.43-.59-.52 0-1.04.2-1.43.59L10.3 9.45l-7.72 7.72c-.78.78-.78 2.05 0 2.83L4 21.41c.39.39.9.59 1.41.59.51 0 1.02-.2 1.41-.59l7.78-7.78 2.81-2.81c.8-.78.8-2.07 0-2.86zM5.41 20L4 18.59l7.72-7.72 1.47 1.35L5.41 20z\"/>\n",
              "  </svg>\n",
              "      </button>\n",
              "      \n",
              "  <style>\n",
              "    .colab-df-container {\n",
              "      display:flex;\n",
              "      flex-wrap:wrap;\n",
              "      gap: 12px;\n",
              "    }\n",
              "\n",
              "    .colab-df-convert {\n",
              "      background-color: #E8F0FE;\n",
              "      border: none;\n",
              "      border-radius: 50%;\n",
              "      cursor: pointer;\n",
              "      display: none;\n",
              "      fill: #1967D2;\n",
              "      height: 32px;\n",
              "      padding: 0 0 0 0;\n",
              "      width: 32px;\n",
              "    }\n",
              "\n",
              "    .colab-df-convert:hover {\n",
              "      background-color: #E2EBFA;\n",
              "      box-shadow: 0px 1px 2px rgba(60, 64, 67, 0.3), 0px 1px 3px 1px rgba(60, 64, 67, 0.15);\n",
              "      fill: #174EA6;\n",
              "    }\n",
              "\n",
              "    [theme=dark] .colab-df-convert {\n",
              "      background-color: #3B4455;\n",
              "      fill: #D2E3FC;\n",
              "    }\n",
              "\n",
              "    [theme=dark] .colab-df-convert:hover {\n",
              "      background-color: #434B5C;\n",
              "      box-shadow: 0px 1px 3px 1px rgba(0, 0, 0, 0.15);\n",
              "      filter: drop-shadow(0px 1px 2px rgba(0, 0, 0, 0.3));\n",
              "      fill: #FFFFFF;\n",
              "    }\n",
              "  </style>\n",
              "\n",
              "      <script>\n",
              "        const buttonEl =\n",
              "          document.querySelector('#df-4d16cc16-2ec9-445b-8bc4-8a1408ed39a3 button.colab-df-convert');\n",
              "        buttonEl.style.display =\n",
              "          google.colab.kernel.accessAllowed ? 'block' : 'none';\n",
              "\n",
              "        async function convertToInteractive(key) {\n",
              "          const element = document.querySelector('#df-4d16cc16-2ec9-445b-8bc4-8a1408ed39a3');\n",
              "          const dataTable =\n",
              "            await google.colab.kernel.invokeFunction('convertToInteractive',\n",
              "                                                     [key], {});\n",
              "          if (!dataTable) return;\n",
              "\n",
              "          const docLinkHtml = 'Like what you see? Visit the ' +\n",
              "            '<a target=\"_blank\" href=https://colab.research.google.com/notebooks/data_table.ipynb>data table notebook</a>'\n",
              "            + ' to learn more about interactive tables.';\n",
              "          element.innerHTML = '';\n",
              "          dataTable['output_type'] = 'display_data';\n",
              "          await google.colab.output.renderOutput(dataTable, element);\n",
              "          const docLink = document.createElement('div');\n",
              "          docLink.innerHTML = docLinkHtml;\n",
              "          element.appendChild(docLink);\n",
              "        }\n",
              "      </script>\n",
              "    </div>\n",
              "  </div>\n",
              "  "
            ]
          },
          "metadata": {},
          "execution_count": 5
        }
      ],
      "source": [
        "data.tail()"
      ],
      "id": "9hBFfZKWHN2s"
    },
    {
      "cell_type": "code",
      "execution_count": 6,
      "metadata": {
        "colab": {
          "base_uri": "https://localhost:8080/"
        },
        "id": "MdZHcJOTIqLB",
        "outputId": "7f4b936d-0ca7-441a-9f50-273e9c878699"
      },
      "outputs": [
        {
          "output_type": "execute_result",
          "data": {
            "text/plain": [
              "(25480, 12)"
            ]
          },
          "metadata": {},
          "execution_count": 6
        }
      ],
      "source": [
        "data.shape"
      ],
      "id": "MdZHcJOTIqLB"
    },
    {
      "cell_type": "markdown",
      "metadata": {
        "id": "mbUy3w3HItxY"
      },
      "source": [
        "* There are 25,480 observations and 12 columns in the dataset"
      ],
      "id": "mbUy3w3HItxY"
    },
    {
      "cell_type": "code",
      "execution_count": 7,
      "metadata": {
        "colab": {
          "base_uri": "https://localhost:8080/"
        },
        "id": "WSjkhLUmHtyf",
        "outputId": "0bab6cc1-bf68-45ce-80ff-58fc2f82136e"
      },
      "outputs": [
        {
          "output_type": "stream",
          "name": "stdout",
          "text": [
            "<class 'pandas.core.frame.DataFrame'>\n",
            "RangeIndex: 25480 entries, 0 to 25479\n",
            "Data columns (total 12 columns):\n",
            " #   Column                 Non-Null Count  Dtype  \n",
            "---  ------                 --------------  -----  \n",
            " 0   case_id                25480 non-null  object \n",
            " 1   continent              25480 non-null  object \n",
            " 2   education_of_employee  25480 non-null  object \n",
            " 3   has_job_experience     25480 non-null  object \n",
            " 4   requires_job_training  25480 non-null  object \n",
            " 5   no_of_employees        25480 non-null  int64  \n",
            " 6   yr_of_estab            25480 non-null  int64  \n",
            " 7   region_of_employment   25480 non-null  object \n",
            " 8   prevailing_wage        25480 non-null  float64\n",
            " 9   unit_of_wage           25480 non-null  object \n",
            " 10  full_time_position     25480 non-null  object \n",
            " 11  case_status            25480 non-null  object \n",
            "dtypes: float64(1), int64(2), object(9)\n",
            "memory usage: 2.3+ MB\n"
          ]
        }
      ],
      "source": [
        "data.info()"
      ],
      "id": "WSjkhLUmHtyf"
    },
    {
      "cell_type": "markdown",
      "metadata": {
        "id": "IXLcJXL_I24i"
      },
      "source": [
        "**Observations-**\n",
        "* All features are string types except No of employees ,yr_od_estab and prevailing_wage are numeric type.\n",
        "* There are no missing values in the data."
      ],
      "id": "IXLcJXL_I24i"
    },
    {
      "cell_type": "code",
      "execution_count": 8,
      "metadata": {
        "colab": {
          "base_uri": "https://localhost:8080/"
        },
        "id": "guVIGi62HN-R",
        "outputId": "98da820f-58b1-4738-aef6-5a47f59df7b9"
      },
      "outputs": [
        {
          "output_type": "execute_result",
          "data": {
            "text/plain": [
              "case_id                  0\n",
              "continent                0\n",
              "education_of_employee    0\n",
              "has_job_experience       0\n",
              "requires_job_training    0\n",
              "no_of_employees          0\n",
              "yr_of_estab              0\n",
              "region_of_employment     0\n",
              "prevailing_wage          0\n",
              "unit_of_wage             0\n",
              "full_time_position       0\n",
              "case_status              0\n",
              "dtype: int64"
            ]
          },
          "metadata": {},
          "execution_count": 8
        }
      ],
      "source": [
        "data.isnull().sum()"
      ],
      "id": "guVIGi62HN-R"
    },
    {
      "cell_type": "markdown",
      "metadata": {
        "id": "HcJFKppvJaYS"
      },
      "source": [
        "**Observations-**\n",
        "* There are no missing values in the data."
      ],
      "id": "HcJFKppvJaYS"
    },
    {
      "cell_type": "code",
      "execution_count": 9,
      "metadata": {
        "colab": {
          "base_uri": "https://localhost:8080/",
          "height": 426
        },
        "id": "Dmy5I14RHOAe",
        "outputId": "c712f6f8-1fef-4cdf-8b31-9b96e0fa31c7"
      },
      "outputs": [
        {
          "output_type": "execute_result",
          "data": {
            "text/plain": [
              "                         count unique         top   freq          mean  \\\n",
              "case_id                  25480  25480      EZYV01      1           NaN   \n",
              "continent                25480      6        Asia  16861           NaN   \n",
              "education_of_employee    25480      4  Bachelor's  10234           NaN   \n",
              "has_job_experience       25480      2           Y  14802           NaN   \n",
              "requires_job_training    25480      2           N  22525           NaN   \n",
              "no_of_employees        25480.0    NaN         NaN    NaN    5667.04321   \n",
              "yr_of_estab            25480.0    NaN         NaN    NaN   1979.409929   \n",
              "region_of_employment     25480      5   Northeast   7195           NaN   \n",
              "prevailing_wage        25480.0    NaN         NaN    NaN  74455.814592   \n",
              "unit_of_wage             25480      4        Year  22962           NaN   \n",
              "full_time_position       25480      2           Y  22773           NaN   \n",
              "case_status              25480      2   Certified  17018           NaN   \n",
              "\n",
              "                                std     min       25%       50%          75%  \\\n",
              "case_id                         NaN     NaN       NaN       NaN          NaN   \n",
              "continent                       NaN     NaN       NaN       NaN          NaN   \n",
              "education_of_employee           NaN     NaN       NaN       NaN          NaN   \n",
              "has_job_experience              NaN     NaN       NaN       NaN          NaN   \n",
              "requires_job_training           NaN     NaN       NaN       NaN          NaN   \n",
              "no_of_employees        22877.928848   -26.0    1022.0    2109.0       3504.0   \n",
              "yr_of_estab               42.366929  1800.0    1976.0    1997.0       2005.0   \n",
              "region_of_employment            NaN     NaN       NaN       NaN          NaN   \n",
              "prevailing_wage        52815.942327  2.1367  34015.48  70308.21  107735.5125   \n",
              "unit_of_wage                    NaN     NaN       NaN       NaN          NaN   \n",
              "full_time_position              NaN     NaN       NaN       NaN          NaN   \n",
              "case_status                     NaN     NaN       NaN       NaN          NaN   \n",
              "\n",
              "                             max  \n",
              "case_id                      NaN  \n",
              "continent                    NaN  \n",
              "education_of_employee        NaN  \n",
              "has_job_experience           NaN  \n",
              "requires_job_training        NaN  \n",
              "no_of_employees         602069.0  \n",
              "yr_of_estab               2016.0  \n",
              "region_of_employment         NaN  \n",
              "prevailing_wage        319210.27  \n",
              "unit_of_wage                 NaN  \n",
              "full_time_position           NaN  \n",
              "case_status                  NaN  "
            ],
            "text/html": [
              "\n",
              "  <div id=\"df-bb651fcb-4da4-4d02-bc8d-4984070948c1\">\n",
              "    <div class=\"colab-df-container\">\n",
              "      <div>\n",
              "<style scoped>\n",
              "    .dataframe tbody tr th:only-of-type {\n",
              "        vertical-align: middle;\n",
              "    }\n",
              "\n",
              "    .dataframe tbody tr th {\n",
              "        vertical-align: top;\n",
              "    }\n",
              "\n",
              "    .dataframe thead th {\n",
              "        text-align: right;\n",
              "    }\n",
              "</style>\n",
              "<table border=\"1\" class=\"dataframe\">\n",
              "  <thead>\n",
              "    <tr style=\"text-align: right;\">\n",
              "      <th></th>\n",
              "      <th>count</th>\n",
              "      <th>unique</th>\n",
              "      <th>top</th>\n",
              "      <th>freq</th>\n",
              "      <th>mean</th>\n",
              "      <th>std</th>\n",
              "      <th>min</th>\n",
              "      <th>25%</th>\n",
              "      <th>50%</th>\n",
              "      <th>75%</th>\n",
              "      <th>max</th>\n",
              "    </tr>\n",
              "  </thead>\n",
              "  <tbody>\n",
              "    <tr>\n",
              "      <th>case_id</th>\n",
              "      <td>25480</td>\n",
              "      <td>25480</td>\n",
              "      <td>EZYV01</td>\n",
              "      <td>1</td>\n",
              "      <td>NaN</td>\n",
              "      <td>NaN</td>\n",
              "      <td>NaN</td>\n",
              "      <td>NaN</td>\n",
              "      <td>NaN</td>\n",
              "      <td>NaN</td>\n",
              "      <td>NaN</td>\n",
              "    </tr>\n",
              "    <tr>\n",
              "      <th>continent</th>\n",
              "      <td>25480</td>\n",
              "      <td>6</td>\n",
              "      <td>Asia</td>\n",
              "      <td>16861</td>\n",
              "      <td>NaN</td>\n",
              "      <td>NaN</td>\n",
              "      <td>NaN</td>\n",
              "      <td>NaN</td>\n",
              "      <td>NaN</td>\n",
              "      <td>NaN</td>\n",
              "      <td>NaN</td>\n",
              "    </tr>\n",
              "    <tr>\n",
              "      <th>education_of_employee</th>\n",
              "      <td>25480</td>\n",
              "      <td>4</td>\n",
              "      <td>Bachelor's</td>\n",
              "      <td>10234</td>\n",
              "      <td>NaN</td>\n",
              "      <td>NaN</td>\n",
              "      <td>NaN</td>\n",
              "      <td>NaN</td>\n",
              "      <td>NaN</td>\n",
              "      <td>NaN</td>\n",
              "      <td>NaN</td>\n",
              "    </tr>\n",
              "    <tr>\n",
              "      <th>has_job_experience</th>\n",
              "      <td>25480</td>\n",
              "      <td>2</td>\n",
              "      <td>Y</td>\n",
              "      <td>14802</td>\n",
              "      <td>NaN</td>\n",
              "      <td>NaN</td>\n",
              "      <td>NaN</td>\n",
              "      <td>NaN</td>\n",
              "      <td>NaN</td>\n",
              "      <td>NaN</td>\n",
              "      <td>NaN</td>\n",
              "    </tr>\n",
              "    <tr>\n",
              "      <th>requires_job_training</th>\n",
              "      <td>25480</td>\n",
              "      <td>2</td>\n",
              "      <td>N</td>\n",
              "      <td>22525</td>\n",
              "      <td>NaN</td>\n",
              "      <td>NaN</td>\n",
              "      <td>NaN</td>\n",
              "      <td>NaN</td>\n",
              "      <td>NaN</td>\n",
              "      <td>NaN</td>\n",
              "      <td>NaN</td>\n",
              "    </tr>\n",
              "    <tr>\n",
              "      <th>no_of_employees</th>\n",
              "      <td>25480.0</td>\n",
              "      <td>NaN</td>\n",
              "      <td>NaN</td>\n",
              "      <td>NaN</td>\n",
              "      <td>5667.04321</td>\n",
              "      <td>22877.928848</td>\n",
              "      <td>-26.0</td>\n",
              "      <td>1022.0</td>\n",
              "      <td>2109.0</td>\n",
              "      <td>3504.0</td>\n",
              "      <td>602069.0</td>\n",
              "    </tr>\n",
              "    <tr>\n",
              "      <th>yr_of_estab</th>\n",
              "      <td>25480.0</td>\n",
              "      <td>NaN</td>\n",
              "      <td>NaN</td>\n",
              "      <td>NaN</td>\n",
              "      <td>1979.409929</td>\n",
              "      <td>42.366929</td>\n",
              "      <td>1800.0</td>\n",
              "      <td>1976.0</td>\n",
              "      <td>1997.0</td>\n",
              "      <td>2005.0</td>\n",
              "      <td>2016.0</td>\n",
              "    </tr>\n",
              "    <tr>\n",
              "      <th>region_of_employment</th>\n",
              "      <td>25480</td>\n",
              "      <td>5</td>\n",
              "      <td>Northeast</td>\n",
              "      <td>7195</td>\n",
              "      <td>NaN</td>\n",
              "      <td>NaN</td>\n",
              "      <td>NaN</td>\n",
              "      <td>NaN</td>\n",
              "      <td>NaN</td>\n",
              "      <td>NaN</td>\n",
              "      <td>NaN</td>\n",
              "    </tr>\n",
              "    <tr>\n",
              "      <th>prevailing_wage</th>\n",
              "      <td>25480.0</td>\n",
              "      <td>NaN</td>\n",
              "      <td>NaN</td>\n",
              "      <td>NaN</td>\n",
              "      <td>74455.814592</td>\n",
              "      <td>52815.942327</td>\n",
              "      <td>2.1367</td>\n",
              "      <td>34015.48</td>\n",
              "      <td>70308.21</td>\n",
              "      <td>107735.5125</td>\n",
              "      <td>319210.27</td>\n",
              "    </tr>\n",
              "    <tr>\n",
              "      <th>unit_of_wage</th>\n",
              "      <td>25480</td>\n",
              "      <td>4</td>\n",
              "      <td>Year</td>\n",
              "      <td>22962</td>\n",
              "      <td>NaN</td>\n",
              "      <td>NaN</td>\n",
              "      <td>NaN</td>\n",
              "      <td>NaN</td>\n",
              "      <td>NaN</td>\n",
              "      <td>NaN</td>\n",
              "      <td>NaN</td>\n",
              "    </tr>\n",
              "    <tr>\n",
              "      <th>full_time_position</th>\n",
              "      <td>25480</td>\n",
              "      <td>2</td>\n",
              "      <td>Y</td>\n",
              "      <td>22773</td>\n",
              "      <td>NaN</td>\n",
              "      <td>NaN</td>\n",
              "      <td>NaN</td>\n",
              "      <td>NaN</td>\n",
              "      <td>NaN</td>\n",
              "      <td>NaN</td>\n",
              "      <td>NaN</td>\n",
              "    </tr>\n",
              "    <tr>\n",
              "      <th>case_status</th>\n",
              "      <td>25480</td>\n",
              "      <td>2</td>\n",
              "      <td>Certified</td>\n",
              "      <td>17018</td>\n",
              "      <td>NaN</td>\n",
              "      <td>NaN</td>\n",
              "      <td>NaN</td>\n",
              "      <td>NaN</td>\n",
              "      <td>NaN</td>\n",
              "      <td>NaN</td>\n",
              "      <td>NaN</td>\n",
              "    </tr>\n",
              "  </tbody>\n",
              "</table>\n",
              "</div>\n",
              "      <button class=\"colab-df-convert\" onclick=\"convertToInteractive('df-bb651fcb-4da4-4d02-bc8d-4984070948c1')\"\n",
              "              title=\"Convert this dataframe to an interactive table.\"\n",
              "              style=\"display:none;\">\n",
              "        \n",
              "  <svg xmlns=\"http://www.w3.org/2000/svg\" height=\"24px\"viewBox=\"0 0 24 24\"\n",
              "       width=\"24px\">\n",
              "    <path d=\"M0 0h24v24H0V0z\" fill=\"none\"/>\n",
              "    <path d=\"M18.56 5.44l.94 2.06.94-2.06 2.06-.94-2.06-.94-.94-2.06-.94 2.06-2.06.94zm-11 1L8.5 8.5l.94-2.06 2.06-.94-2.06-.94L8.5 2.5l-.94 2.06-2.06.94zm10 10l.94 2.06.94-2.06 2.06-.94-2.06-.94-.94-2.06-.94 2.06-2.06.94z\"/><path d=\"M17.41 7.96l-1.37-1.37c-.4-.4-.92-.59-1.43-.59-.52 0-1.04.2-1.43.59L10.3 9.45l-7.72 7.72c-.78.78-.78 2.05 0 2.83L4 21.41c.39.39.9.59 1.41.59.51 0 1.02-.2 1.41-.59l7.78-7.78 2.81-2.81c.8-.78.8-2.07 0-2.86zM5.41 20L4 18.59l7.72-7.72 1.47 1.35L5.41 20z\"/>\n",
              "  </svg>\n",
              "      </button>\n",
              "      \n",
              "  <style>\n",
              "    .colab-df-container {\n",
              "      display:flex;\n",
              "      flex-wrap:wrap;\n",
              "      gap: 12px;\n",
              "    }\n",
              "\n",
              "    .colab-df-convert {\n",
              "      background-color: #E8F0FE;\n",
              "      border: none;\n",
              "      border-radius: 50%;\n",
              "      cursor: pointer;\n",
              "      display: none;\n",
              "      fill: #1967D2;\n",
              "      height: 32px;\n",
              "      padding: 0 0 0 0;\n",
              "      width: 32px;\n",
              "    }\n",
              "\n",
              "    .colab-df-convert:hover {\n",
              "      background-color: #E2EBFA;\n",
              "      box-shadow: 0px 1px 2px rgba(60, 64, 67, 0.3), 0px 1px 3px 1px rgba(60, 64, 67, 0.15);\n",
              "      fill: #174EA6;\n",
              "    }\n",
              "\n",
              "    [theme=dark] .colab-df-convert {\n",
              "      background-color: #3B4455;\n",
              "      fill: #D2E3FC;\n",
              "    }\n",
              "\n",
              "    [theme=dark] .colab-df-convert:hover {\n",
              "      background-color: #434B5C;\n",
              "      box-shadow: 0px 1px 3px 1px rgba(0, 0, 0, 0.15);\n",
              "      filter: drop-shadow(0px 1px 2px rgba(0, 0, 0, 0.3));\n",
              "      fill: #FFFFFF;\n",
              "    }\n",
              "  </style>\n",
              "\n",
              "      <script>\n",
              "        const buttonEl =\n",
              "          document.querySelector('#df-bb651fcb-4da4-4d02-bc8d-4984070948c1 button.colab-df-convert');\n",
              "        buttonEl.style.display =\n",
              "          google.colab.kernel.accessAllowed ? 'block' : 'none';\n",
              "\n",
              "        async function convertToInteractive(key) {\n",
              "          const element = document.querySelector('#df-bb651fcb-4da4-4d02-bc8d-4984070948c1');\n",
              "          const dataTable =\n",
              "            await google.colab.kernel.invokeFunction('convertToInteractive',\n",
              "                                                     [key], {});\n",
              "          if (!dataTable) return;\n",
              "\n",
              "          const docLinkHtml = 'Like what you see? Visit the ' +\n",
              "            '<a target=\"_blank\" href=https://colab.research.google.com/notebooks/data_table.ipynb>data table notebook</a>'\n",
              "            + ' to learn more about interactive tables.';\n",
              "          element.innerHTML = '';\n",
              "          dataTable['output_type'] = 'display_data';\n",
              "          await google.colab.output.renderOutput(dataTable, element);\n",
              "          const docLink = document.createElement('div');\n",
              "          docLink.innerHTML = docLinkHtml;\n",
              "          element.appendChild(docLink);\n",
              "        }\n",
              "      </script>\n",
              "    </div>\n",
              "  </div>\n",
              "  "
            ]
          },
          "metadata": {},
          "execution_count": 9
        }
      ],
      "source": [
        "data.describe(include='all').T"
      ],
      "id": "Dmy5I14RHOAe"
    },
    {
      "cell_type": "markdown",
      "metadata": {
        "id": "Z7tzub46JyjT"
      },
      "source": [
        "**Observations-**\n",
        "* The frequent continent where employees come from is Asia.\n",
        "* There might be outliers in data where the no of employees has a huge variation as there is a big difference in the 3rd quartile and maximum values.\n",
        "and negative values detected should be treated."
      ],
      "id": "Z7tzub46JyjT"
    },
    {
      "cell_type": "code",
      "execution_count": 10,
      "metadata": {
        "colab": {
          "base_uri": "https://localhost:8080/"
        },
        "id": "Z8WliQOHIIzN",
        "outputId": "6dc6b85c-a3b0-475e-f0b2-a4331cd871d1"
      },
      "outputs": [
        {
          "output_type": "execute_result",
          "data": {
            "text/plain": [
              "0"
            ]
          },
          "metadata": {},
          "execution_count": 10
        }
      ],
      "source": [
        "data.duplicated().sum()"
      ],
      "id": "Z8WliQOHIIzN"
    },
    {
      "cell_type": "markdown",
      "metadata": {
        "id": "VGHWRjF8LtBu"
      },
      "source": [
        "**Observations-**\n",
        "* No duplicates are detected"
      ],
      "id": "VGHWRjF8LtBu"
    },
    {
      "cell_type": "markdown",
      "metadata": {
        "id": "tQKVpbqiT0I9"
      },
      "source": [
        "Let's check the count of each unique category in each of the categorical variables"
      ],
      "id": "tQKVpbqiT0I9"
    },
    {
      "cell_type": "code",
      "execution_count": 11,
      "metadata": {
        "colab": {
          "base_uri": "https://localhost:8080/"
        },
        "id": "Fw65fNdET4JR",
        "outputId": "7d4af03e-ffb8-42d7-9988-c4603c24075e"
      },
      "outputs": [
        {
          "output_type": "stream",
          "name": "stdout",
          "text": [
            "EZYV01       1\n",
            "EZYV16995    1\n",
            "EZYV16993    1\n",
            "EZYV16992    1\n",
            "EZYV16991    1\n",
            "            ..\n",
            "EZYV8492     1\n",
            "EZYV8491     1\n",
            "EZYV8490     1\n",
            "EZYV8489     1\n",
            "EZYV25480    1\n",
            "Name: case_id, Length: 25480, dtype: int64\n",
            "--------------------------------------------------\n",
            "Asia             16861\n",
            "Europe            3732\n",
            "North America     3292\n",
            "South America      852\n",
            "Africa             551\n",
            "Oceania            192\n",
            "Name: continent, dtype: int64\n",
            "--------------------------------------------------\n",
            "Bachelor's     10234\n",
            "Master's        9634\n",
            "High School     3420\n",
            "Doctorate       2192\n",
            "Name: education_of_employee, dtype: int64\n",
            "--------------------------------------------------\n",
            "Y    14802\n",
            "N    10678\n",
            "Name: has_job_experience, dtype: int64\n",
            "--------------------------------------------------\n",
            "N    22525\n",
            "Y     2955\n",
            "Name: requires_job_training, dtype: int64\n",
            "--------------------------------------------------\n",
            "Northeast    7195\n",
            "South        7017\n",
            "West         6586\n",
            "Midwest      4307\n",
            "Island        375\n",
            "Name: region_of_employment, dtype: int64\n",
            "--------------------------------------------------\n",
            "Year     22962\n",
            "Hour      2157\n",
            "Week       272\n",
            "Month       89\n",
            "Name: unit_of_wage, dtype: int64\n",
            "--------------------------------------------------\n",
            "Y    22773\n",
            "N     2707\n",
            "Name: full_time_position, dtype: int64\n",
            "--------------------------------------------------\n",
            "Certified    17018\n",
            "Denied        8462\n",
            "Name: case_status, dtype: int64\n",
            "--------------------------------------------------\n"
          ]
        }
      ],
      "source": [
        "# Making a list of all catrgorical variables\n",
        "cat_col = list(data.select_dtypes(\"object\").columns)\n",
        "\n",
        "# Printing number of count of each unique value in each column\n",
        "for column in cat_col:\n",
        "    print(data[column].value_counts())\n",
        "    print(\"-\" * 50)"
      ],
      "id": "Fw65fNdET4JR"
    },
    {
      "cell_type": "code",
      "execution_count": 12,
      "metadata": {
        "colab": {
          "base_uri": "https://localhost:8080/"
        },
        "id": "dmCQOyw9T7GC",
        "outputId": "ea33cdec-1830-4f42-ba12-fa0b9d044157"
      },
      "outputs": [
        {
          "output_type": "execute_result",
          "data": {
            "text/plain": [
              "25480"
            ]
          },
          "metadata": {},
          "execution_count": 12
        }
      ],
      "source": [
        "# checking the number of unique values\n",
        "data[\"case_id\"].nunique()"
      ],
      "id": "dmCQOyw9T7GC"
    },
    {
      "cell_type": "code",
      "execution_count": 13,
      "metadata": {
        "id": "DMt2qs35UIBG"
      },
      "outputs": [],
      "source": [
        "# droping 'case_id' column from the data\n",
        "data.drop([\"case_id\"], axis=1, inplace=True)"
      ],
      "id": "DMt2qs35UIBG"
    },
    {
      "cell_type": "markdown",
      "metadata": {
        "id": "seasonal-calibration"
      },
      "source": [
        "## Exploratory Data Analysis (EDA)\n",
        "\n",
        "- EDA is an important part of any project involving data.\n",
        "- It is important to investigate and understand the data better before building a model with it.\n",
        "- A few questions have been mentioned below which will help you approach the analysis in the right manner and generate insights from the data.\n",
        "- A thorough analysis of the data, in addition to the questions mentioned below, should be done."
      ],
      "id": "seasonal-calibration"
    },
    {
      "cell_type": "code",
      "execution_count": 14,
      "metadata": {
        "id": "eHXdnO1FMn4k"
      },
      "outputs": [],
      "source": [
        "# function to plot a boxplot and a histogram along the same scale.\n",
        "\n",
        "def histogram_boxplot(data, feature, figsize=(12, 7), kde=False, bins=None):\n",
        "    \"\"\"\n",
        "    Boxplot and histogram combined\n",
        "\n",
        "    data: dataframe\n",
        "    feature: dataframe column\n",
        "    figsize: size of figure (default (12,7))\n",
        "    kde: whether to show the density curve (default False)\n",
        "    bins: number of bins for histogram (default None)\n",
        "    \"\"\"\n",
        "    f2, (ax_box2, ax_hist2) = plt.subplots(\n",
        "        nrows=2,  # Number of rows of the subplot grid= 2\n",
        "        sharex=True,  # x-axis will be shared among all subplots\n",
        "        gridspec_kw={\"height_ratios\": (0.25, 0.75)},\n",
        "        figsize=figsize,\n",
        "    )  # creating the 2 subplots\n",
        "    sns.boxplot(\n",
        "        data=data, x=feature, ax=ax_box2, showmeans=True, color=\"violet\"\n",
        "    )  # boxplot will be created and a triangle will indicate the mean value of the column\n",
        "    sns.histplot(\n",
        "        data=data, x=feature, kde=kde, ax=ax_hist2, bins=bins\n",
        "    ) if bins else sns.histplot(\n",
        "        data=data, x=feature, kde=kde, ax=ax_hist2\n",
        "    )  # For histogram\n",
        "    ax_hist2.axvline(\n",
        "        data[feature].mean(), color=\"green\", linestyle=\"--\"\n",
        "    )  # Add mean to the histogram\n",
        "    ax_hist2.axvline(\n",
        "        data[feature].median(), color=\"black\", linestyle=\"-\"\n",
        "    )  # Add median to the histogram"
      ],
      "id": "eHXdnO1FMn4k"
    },
    {
      "cell_type": "code",
      "execution_count": 15,
      "metadata": {
        "id": "right-permit"
      },
      "outputs": [],
      "source": [
        "def labeled_barplot(data, feature, perc=False, n=None):\n",
        "    \"\"\"\n",
        "    Barplot with percentage at the top\n",
        "\n",
        "    data: dataframe\n",
        "    feature: dataframe column\n",
        "    perc: whether to display percentages instead of count (default is False)\n",
        "    n: displays the top n category levels (default is None, i.e., display all levels)\n",
        "    \"\"\"\n",
        "\n",
        "    total = len(data[feature])  # length of the column\n",
        "    count = data[feature].nunique()\n",
        "    if n is None:\n",
        "        plt.figure(figsize=(count + 2, 6))\n",
        "    else:\n",
        "        plt.figure(figsize=(n + 2, 6))\n",
        "\n",
        "    plt.xticks(rotation=90, fontsize=15)\n",
        "    ax = sns.countplot(\n",
        "        data=data,\n",
        "        x=feature,\n",
        "        palette=\"Paired\",\n",
        "        order=data[feature].value_counts().index[:n],\n",
        "    )\n",
        "\n",
        "    for p in ax.patches:\n",
        "        if perc == True:\n",
        "            label = \"{:.1f}%\".format(\n",
        "                100 * p.get_height() / total\n",
        "            )  # percentage of each class of the category\n",
        "        else:\n",
        "            label = p.get_height()  # count of each level of the category\n",
        "\n",
        "        x = p.get_x() + p.get_width() / 2  # width of the plot\n",
        "        y = p.get_height()  # height of the plot\n",
        "\n",
        "        ax.annotate(\n",
        "            label,\n",
        "            (x, y),\n",
        "            ha=\"center\",\n",
        "            va=\"center\",\n",
        "            size=12,\n",
        "            xytext=(0, 5),\n",
        "            textcoords=\"offset points\",\n",
        "        )  # annotate the percentage\n",
        "\n",
        "    plt.show()  # show the plot"
      ],
      "id": "right-permit"
    },
    {
      "cell_type": "markdown",
      "metadata": {
        "id": "ZNrinFtSM-WB"
      },
      "source": [
        "### Univariate analysis"
      ],
      "id": "ZNrinFtSM-WB"
    },
    {
      "cell_type": "markdown",
      "metadata": {
        "id": "JNYVxDqPNNt2"
      },
      "source": [
        "* **Continent**"
      ],
      "id": "JNYVxDqPNNt2"
    },
    {
      "cell_type": "code",
      "execution_count": 16,
      "metadata": {
        "colab": {
          "base_uri": "https://localhost:8080/",
          "height": 489
        },
        "id": "i798EpQfM95d",
        "outputId": "e5da69f1-1b74-40da-edf6-148cfedff855"
      },
      "outputs": [
        {
          "output_type": "display_data",
          "data": {
            "text/plain": [
              "<Figure size 576x432 with 1 Axes>"
            ],
            "image/png": "[encoded data removed]"
          },
          "metadata": {
            "needs_background": "light"
          }
        }
      ],
      "source": [
        "labeled_barplot(data, \"continent\", perc=True)"
      ],
      "id": "i798EpQfM95d"
    },
    {
      "cell_type": "markdown",
      "metadata": {
        "id": "QaU6918ZVeXB"
      },
      "source": [
        "* The data shows that 66.2% of the application are coming from Asia.\n",
        "* A similar percentage applied from Europe and North America.\n",
        "* A few employees applied from South America ,Africa and Oceania."
      ],
      "id": "QaU6918ZVeXB"
    },
    {
      "cell_type": "markdown",
      "metadata": {
        "id": "W4amg5ZKNoyA"
      },
      "source": [
        "* **Education_of_employee**"
      ],
      "id": "W4amg5ZKNoyA"
    },
    {
      "cell_type": "code",
      "execution_count": 17,
      "metadata": {
        "colab": {
          "base_uri": "https://localhost:8080/",
          "height": 469
        },
        "id": "COS3i0DvNo8V",
        "outputId": "815c1a31-1b96-4d4b-dc65-b8dc630c69c1"
      },
      "outputs": [
        {
          "output_type": "display_data",
          "data": {
            "text/plain": [
              "<Figure size 432x432 with 1 Axes>"
            ],
            "image/png": "[encoded data removed]"
          },
          "metadata": {
            "needs_background": "light"
          }
        }
      ],
      "source": [
        "labeled_barplot(data, \"education_of_employee\", perc=True)"
      ],
      "id": "COS3i0DvNo8V"
    },
    {
      "cell_type": "markdown",
      "metadata": {
        "id": "9D6zg4pgW_l4"
      },
      "source": [
        "* The data shows that 40.2% of the employees hold a bachlor's degree.\n",
        "* 37.8% of the employees hold a master's degree."
      ],
      "id": "9D6zg4pgW_l4"
    },
    {
      "cell_type": "markdown",
      "metadata": {
        "id": "UYyr2E7WN9Sa"
      },
      "source": [
        "* **Has_job_experience**"
      ],
      "id": "UYyr2E7WN9Sa"
    },
    {
      "cell_type": "code",
      "execution_count": 18,
      "metadata": {
        "colab": {
          "base_uri": "https://localhost:8080/",
          "height": 390
        },
        "id": "M3uxtqjBN9dC",
        "outputId": "0d7eb7e4-3d7d-4380-a1a8-f17d1141f58a"
      },
      "outputs": [
        {
          "output_type": "display_data",
          "data": {
            "text/plain": [
              "<Figure size 288x432 with 1 Axes>"
            ],
            "image/png": "[encoded data removed]"
          },
          "metadata": {
            "needs_background": "light"
          }
        }
      ],
      "source": [
        "labeled_barplot(data, \"has_job_experience\", perc=True)"
      ],
      "id": "M3uxtqjBN9dC"
    },
    {
      "cell_type": "markdown",
      "metadata": {
        "id": "UwJXhPi4glZ9"
      },
      "source": [
        "* The data shows that 58.1% of the employees had a job experience."
      ],
      "id": "UwJXhPi4glZ9"
    },
    {
      "cell_type": "markdown",
      "metadata": {
        "id": "Wl6K5KpPOSaZ"
      },
      "source": [
        "* **Requires_job_training**"
      ],
      "id": "Wl6K5KpPOSaZ"
    },
    {
      "cell_type": "code",
      "execution_count": 19,
      "metadata": {
        "colab": {
          "base_uri": "https://localhost:8080/",
          "height": 390
        },
        "id": "NAtXFuvBOS0R",
        "outputId": "561ce71a-de09-4955-f6dd-8ce36c26cdcf"
      },
      "outputs": [
        {
          "output_type": "display_data",
          "data": {
            "text/plain": [
              "<Figure size 288x432 with 1 Axes>"
            ],
            "image/png": "[encoded data removed]"
          },
          "metadata": {
            "needs_background": "light"
          }
        }
      ],
      "source": [
        "labeled_barplot(data, \"requires_job_training\", perc=True)"
      ],
      "id": "NAtXFuvBOS0R"
    },
    {
      "cell_type": "markdown",
      "metadata": {
        "id": "iRubw8IUhBsY"
      },
      "source": [
        "* The data shows that 88.4% of the employees don't require job training."
      ],
      "id": "iRubw8IUhBsY"
    },
    {
      "cell_type": "markdown",
      "metadata": {
        "id": "ohKke7gzOhPg"
      },
      "source": [
        "* **no_of_employees**"
      ],
      "id": "ohKke7gzOhPg"
    },
    {
      "cell_type": "code",
      "execution_count": 20,
      "metadata": {
        "colab": {
          "base_uri": "https://localhost:8080/"
        },
        "id": "5duMz2STOhXh",
        "outputId": "1644658c-e58a-47ae-bdd1-9610fc917b36"
      },
      "outputs": [
        {
          "output_type": "execute_result",
          "data": {
            "text/plain": [
              "(33, 11)"
            ]
          },
          "metadata": {},
          "execution_count": 20
        }
      ],
      "source": [
        "# checking the negative values in the no_of_employee column\n",
        "data.loc[data['no_of_employees']< 0].shape"
      ],
      "id": "5duMz2STOhXh"
    },
    {
      "cell_type": "code",
      "execution_count": 21,
      "metadata": {
        "id": "KDgL4rsgO04f"
      },
      "outputs": [],
      "source": [
        "#converting the negative values by using abs()\n",
        "data[\"no_of_employees\"] = abs(data[\"no_of_employees\"])"
      ],
      "id": "KDgL4rsgO04f"
    },
    {
      "cell_type": "code",
      "execution_count": 22,
      "metadata": {
        "colab": {
          "base_uri": "https://localhost:8080/"
        },
        "id": "lWfVKNeqSXR5",
        "outputId": "5f998cc8-4a02-40f7-b1f3-943f0a4fa7e4"
      },
      "outputs": [
        {
          "output_type": "execute_result",
          "data": {
            "text/plain": [
              "(0, 11)"
            ]
          },
          "metadata": {},
          "execution_count": 22
        }
      ],
      "source": [
        "data.loc[data['no_of_employees']< 0].shape"
      ],
      "id": "lWfVKNeqSXR5"
    },
    {
      "cell_type": "code",
      "execution_count": 23,
      "metadata": {
        "colab": {
          "base_uri": "https://localhost:8080/",
          "height": 443
        },
        "id": "njCMuAg5Sc9R",
        "outputId": "644539c9-430d-46c9-af5f-1e5f35e7a09e"
      },
      "outputs": [
        {
          "output_type": "display_data",
          "data": {
            "text/plain": [
              "<Figure size 864x504 with 2 Axes>"
            ],
            "image/png": "[encoded data removed]"
          },
          "metadata": {
            "needs_background": "light"
          }
        }
      ],
      "source": [
        "histogram_boxplot(data,'no_of_employees')"
      ],
      "id": "njCMuAg5Sc9R"
    },
    {
      "cell_type": "markdown",
      "metadata": {
        "id": "_wpPgNBji7FW"
      },
      "source": [
        "* The data shows a huge number of outilers ,should be checked for treatment."
      ],
      "id": "_wpPgNBji7FW"
    },
    {
      "cell_type": "markdown",
      "metadata": {
        "id": "mc1-FrHCToIH"
      },
      "source": [
        "* **region_of_employment**"
      ],
      "id": "mc1-FrHCToIH"
    },
    {
      "cell_type": "code",
      "execution_count": 24,
      "metadata": {
        "colab": {
          "base_uri": "https://localhost:8080/",
          "height": 453
        },
        "id": "a7rviLY3ToOh",
        "outputId": "369b9eab-318b-49f9-ac8f-280893b2e266"
      },
      "outputs": [
        {
          "output_type": "display_data",
          "data": {
            "text/plain": [
              "<Figure size 504x432 with 1 Axes>"
            ],
            "image/png": "[encoded data removed]"
          },
          "metadata": {
            "needs_background": "light"
          }
        }
      ],
      "source": [
        "labeled_barplot(data, \"region_of_employment\", perc=True)"
      ],
      "id": "a7rviLY3ToOh"
    },
    {
      "cell_type": "markdown",
      "metadata": {
        "id": "jFj356dskZhF"
      },
      "source": [
        "* Northeast,South and West have the same percentage of employment.\n",
        "* Island is the least region for employment."
      ],
      "id": "jFj356dskZhF"
    },
    {
      "cell_type": "markdown",
      "metadata": {
        "id": "WJA05_yCVAm7"
      },
      "source": [
        "* **prevailing_wage**"
      ],
      "id": "WJA05_yCVAm7"
    },
    {
      "cell_type": "code",
      "execution_count": 25,
      "metadata": {
        "colab": {
          "base_uri": "https://localhost:8080/",
          "height": 443
        },
        "id": "CBdU-FMCVAxp",
        "outputId": "e3c46747-da32-4c30-8e78-eac34e56b73b"
      },
      "outputs": [
        {
          "output_type": "display_data",
          "data": {
            "text/plain": [
              "<Figure size 864x504 with 2 Axes>"
            ],
            "image/png": "[encoded data removed]"
          },
          "metadata": {
            "needs_background": "light"
          }
        }
      ],
      "source": [
        "histogram_boxplot(data,'prevailing_wage')"
      ],
      "id": "CBdU-FMCVAxp"
    },
    {
      "cell_type": "markdown",
      "metadata": {
        "id": "fJDKir2Zk4I3"
      },
      "source": [
        "* The data shows a strike at the minimum level of prevailling wage.\n",
        "* and then a normal distribution appear over the whole data.\n",
        "* Some outliers show at the highest level of prevailling wage."
      ],
      "id": "fJDKir2Zk4I3"
    },
    {
      "cell_type": "markdown",
      "metadata": {
        "id": "HrqAXlgrVjkP"
      },
      "source": [
        "* **Full_time_position**"
      ],
      "id": "HrqAXlgrVjkP"
    },
    {
      "cell_type": "code",
      "execution_count": 26,
      "metadata": {
        "colab": {
          "base_uri": "https://localhost:8080/",
          "height": 390
        },
        "id": "HvVy__4qVjqt",
        "outputId": "a60c2b9b-c443-4e81-f9a3-d26568dc5ef8"
      },
      "outputs": [
        {
          "output_type": "display_data",
          "data": {
            "text/plain": [
              "<Figure size 288x432 with 1 Axes>"
            ],
            "image/png": "[encoded data removed]"
          },
          "metadata": {
            "needs_background": "light"
          }
        }
      ],
      "source": [
        "labeled_barplot(data, \"full_time_position\", perc=True)"
      ],
      "id": "HvVy__4qVjqt"
    },
    {
      "cell_type": "markdown",
      "metadata": {
        "id": "KvD95YRHoWUd"
      },
      "source": [
        "* The data shows that 89.4% of the job position are  full time."
      ],
      "id": "KvD95YRHoWUd"
    },
    {
      "cell_type": "markdown",
      "metadata": {
        "id": "6zGODJ6fVulH"
      },
      "source": [
        "* **case_status**"
      ],
      "id": "6zGODJ6fVulH"
    },
    {
      "cell_type": "code",
      "execution_count": 27,
      "metadata": {
        "colab": {
          "base_uri": "https://localhost:8080/",
          "height": 443
        },
        "id": "4FrIAqluVuvU",
        "outputId": "6768755a-cd40-4832-dc15-3b06f8193d7d"
      },
      "outputs": [
        {
          "output_type": "display_data",
          "data": {
            "text/plain": [
              "<Figure size 288x432 with 1 Axes>"
            ],
            "image/png": "[encoded data removed]"
          },
          "metadata": {
            "needs_background": "light"
          }
        }
      ],
      "source": [
        "labeled_barplot(data, \"case_status\", perc=True)"
      ],
      "id": "4FrIAqluVuvU"
    },
    {
      "cell_type": "markdown",
      "metadata": {
        "id": "UMWOEXJzpLwX"
      },
      "source": [
        "* The data shows that 66.8% of the application are certified however 33.2% are denied."
      ],
      "id": "UMWOEXJzpLwX"
    },
    {
      "cell_type": "markdown",
      "metadata": {
        "id": "MP9uqcbnY-5-"
      },
      "source": [
        "### Bivariate Analysis"
      ],
      "id": "MP9uqcbnY-5-"
    },
    {
      "cell_type": "code",
      "execution_count": 28,
      "metadata": {
        "colab": {
          "base_uri": "https://localhost:8080/",
          "height": 433
        },
        "id": "qZzFQinNjLCW",
        "outputId": "23905d03-7e5e-4784-e188-70b3dbefdec3"
      },
      "outputs": [
        {
          "output_type": "display_data",
          "data": {
            "text/plain": [
              "<Figure size 720x504 with 2 Axes>"
            ],
            "image/png": "[encoded data removed]"
          },
          "metadata": {
            "needs_background": "light"
          }
        }
      ],
      "source": [
        "plt.figure(figsize=(10,7))\n",
        "sns.heatmap(data.corr(),annot=True,vmin=-1,vmax=1,fmt='.1g',cmap=\"Spectral\")\n",
        "plt.show()"
      ],
      "id": "qZzFQinNjLCW"
    },
    {
      "cell_type": "markdown",
      "metadata": {
        "id": "s6Cga3thrhyi"
      },
      "source": [
        "* The data doesn't show a significant corrlation between numerical varaibles."
      ],
      "id": "s6Cga3thrhyi"
    },
    {
      "cell_type": "code",
      "execution_count": 29,
      "metadata": {
        "id": "4KpIDPl1jisb"
      },
      "outputs": [],
      "source": [
        "### function to plot distributions wrt target\n",
        "\n",
        "def distribution_plot_wrt_target(data, predictor, target):\n",
        "\n",
        "    fig, axs = plt.subplots(2, 2, figsize=(12, 10))\n",
        "\n",
        "    target_uniq = data[target].unique()\n",
        "\n",
        "    axs[0, 0].set_title(\"Distribution of target for target=\" + str(target_uniq[0]))\n",
        "    sns.histplot(\n",
        "        data=data[data[target] == target_uniq[0]],\n",
        "        x=predictor,\n",
        "        kde=True,\n",
        "        ax=axs[0, 0],\n",
        "        color=\"teal\",\n",
        "        stat=\"density\",\n",
        "    )\n",
        "\n",
        "    axs[0, 1].set_title(\"Distribution of target for target=\" + str(target_uniq[1]))\n",
        "    sns.histplot(\n",
        "        data=data[data[target] == target_uniq[1]],\n",
        "        x=predictor,\n",
        "        kde=True,\n",
        "        ax=axs[0, 1],\n",
        "        color=\"orange\",\n",
        "        stat=\"density\",\n",
        "    )\n",
        "\n",
        "    axs[1, 0].set_title(\"Boxplot w.r.t target\")\n",
        "    sns.boxplot(data=data, x=target, y=predictor, ax=axs[1, 0], palette=\"gist_rainbow\")\n",
        "\n",
        "    axs[1, 1].set_title(\"Boxplot (without outliers) w.r.t target\")\n",
        "    sns.boxplot(\n",
        "        data=data,\n",
        "        x=target,\n",
        "        y=predictor,\n",
        "        ax=axs[1, 1],\n",
        "        showfliers=False,\n",
        "        palette=\"gist_rainbow\",\n",
        "    )\n",
        "\n",
        "    plt.tight_layout()\n",
        "    plt.show()"
      ],
      "id": "4KpIDPl1jisb"
    },
    {
      "cell_type": "code",
      "execution_count": 30,
      "metadata": {
        "id": "8lhnftoNjlQ7"
      },
      "outputs": [],
      "source": [
        "def stacked_barplot(data, predictor, target):\n",
        "    \"\"\"\n",
        "    Print the category counts and plot a stacked bar chart\n",
        "\n",
        "    data: dataframe\n",
        "    predictor: independent variable\n",
        "    target: target variable\n",
        "    \"\"\"\n",
        "    count = data[predictor].nunique()\n",
        "    sorter = data[target].value_counts().index[-1]\n",
        "    tab1 = pd.crosstab(data[predictor], data[target], margins=True).sort_values(\n",
        "        by=sorter, ascending=False\n",
        "    )\n",
        "    print(tab1)\n",
        "    print(\"-\" * 120)\n",
        "    tab = pd.crosstab(data[predictor], data[target], normalize=\"index\").sort_values(\n",
        "        by=sorter, ascending=False\n",
        "    )\n",
        "    tab.plot(kind=\"bar\", stacked=True, figsize=(count + 5, 5))\n",
        "    plt.legend(\n",
        "        loc=\"lower left\", frameon=False,\n",
        "    )\n",
        "    plt.legend(loc=\"upper left\", bbox_to_anchor=(1, 1))\n",
        "    plt.show()"
      ],
      "id": "8lhnftoNjlQ7"
    },
    {
      "cell_type": "markdown",
      "metadata": {
        "id": "classified-traveler"
      },
      "source": [
        "**Leading Questions**:\n",
        "1. Those with higher education may want to travel abroad for a well-paid job. Does education play a role in Visa certification? \n",
        "\n",
        "2. How does the visa status vary across different continents? \n",
        " \n",
        "3. Experienced professionals might look abroad for opportunities to improve their lifestyles and career development. Does work experience influence visa status? \n",
        " \n",
        "4. In the United States, employees are paid at different intervals. Which pay unit is most likely to be certified for a visa? \n",
        " \n",
        "5. The US government has established a prevailing wage to protect local talent and foreign workers. How does the visa status change with the prevailing wage?"
      ],
      "id": "classified-traveler"
    },
    {
      "cell_type": "markdown",
      "metadata": {
        "id": "Cs69KG05U_vb"
      },
      "source": [
        "Those with higher education may want to travel abroad for a well-paid job. Does education play a role in Visa certification?\n",
        "\n",
        "* **education_of_employee Vs Case status**"
      ],
      "id": "Cs69KG05U_vb"
    },
    {
      "cell_type": "code",
      "execution_count": 31,
      "metadata": {
        "colab": {
          "base_uri": "https://localhost:8080/",
          "height": 530
        },
        "id": "mechanical-interference",
        "outputId": "00371d8f-5424-43f4-8858-84b39e2f4d40"
      },
      "outputs": [
        {
          "output_type": "stream",
          "name": "stdout",
          "text": [
            "case_status            Certified  Denied    All\n",
            "education_of_employee                          \n",
            "All                        17018    8462  25480\n",
            "Bachelor's                  6367    3867  10234\n",
            "High School                 1164    2256   3420\n",
            "Master's                    7575    2059   9634\n",
            "Doctorate                   1912     280   2192\n",
            "------------------------------------------------------------------------------------------------------------------------\n"
          ]
        },
        {
          "output_type": "display_data",
          "data": {
            "text/plain": [
              "<Figure size 648x360 with 1 Axes>"
            ],
            "image/png": "[encoded data removed]"
          },
          "metadata": {
            "needs_background": "light"
          }
        }
      ],
      "source": [
        "stacked_barplot(data, 'education_of_employee', 'case_status')"
      ],
      "id": "mechanical-interference"
    },
    {
      "cell_type": "markdown",
      "metadata": {
        "id": "mQU1n_wAskAI"
      },
      "source": [
        "* The graph show a positive correlation between the education degree and the case status,\n",
        "as long as the employee hold a higer degree so he has more chance to be certified."
      ],
      "id": "mQU1n_wAskAI"
    },
    {
      "cell_type": "markdown",
      "metadata": {
        "id": "1T2AMOU0lbWA"
      },
      "source": [
        "How does the visa status vary across different continents?\n",
        "\n",
        "* **case status Vs Continent** \n"
      ],
      "id": "1T2AMOU0lbWA"
    },
    {
      "cell_type": "code",
      "execution_count": 32,
      "metadata": {
        "colab": {
          "base_uri": "https://localhost:8080/",
          "height": 579
        },
        "id": "m0MMa5qylat3",
        "outputId": "c08e88ed-f8a9-4c70-f9c2-80f5a83aa230"
      },
      "outputs": [
        {
          "output_type": "stream",
          "name": "stdout",
          "text": [
            "case_status    Certified  Denied    All\n",
            "continent                              \n",
            "All                17018    8462  25480\n",
            "Asia               11012    5849  16861\n",
            "North America       2037    1255   3292\n",
            "Europe              2957     775   3732\n",
            "South America        493     359    852\n",
            "Africa               397     154    551\n",
            "Oceania              122      70    192\n",
            "------------------------------------------------------------------------------------------------------------------------\n"
          ]
        },
        {
          "output_type": "display_data",
          "data": {
            "text/plain": [
              "<Figure size 792x360 with 1 Axes>"
            ],
            "image/png": "[encoded data removed]"
          },
          "metadata": {
            "needs_background": "light"
          }
        }
      ],
      "source": [
        "stacked_barplot(data,'continent','case_status')"
      ],
      "id": "m0MMa5qylat3"
    },
    {
      "cell_type": "markdown",
      "metadata": {
        "id": "f3gIoYvY118x"
      },
      "source": [
        "* The graph shows that emplyee applying from Europe are most likely certified however the employees from South and North America are less certified."
      ],
      "id": "f3gIoYvY118x"
    },
    {
      "cell_type": "markdown",
      "metadata": {
        "id": "UO3fwPjJ-yte"
      },
      "source": [
        "Experienced professionals might look abroad for opportunities to improve their lifestyles and career development. Does work experience influence visa status?\n",
        "\n",
        "* **has_job_experience Vs Case status**"
      ],
      "id": "UO3fwPjJ-yte"
    },
    {
      "cell_type": "code",
      "execution_count": 33,
      "metadata": {
        "colab": {
          "base_uri": "https://localhost:8080/",
          "height": 441
        },
        "id": "6X5Y_zz5-tim",
        "outputId": "0d5f60bf-fba2-4a04-af9c-15c1f12f3f40"
      },
      "outputs": [
        {
          "output_type": "stream",
          "name": "stdout",
          "text": [
            "case_status         Certified  Denied    All\n",
            "has_job_experience                          \n",
            "All                     17018    8462  25480\n",
            "N                        5994    4684  10678\n",
            "Y                       11024    3778  14802\n",
            "------------------------------------------------------------------------------------------------------------------------\n"
          ]
        },
        {
          "output_type": "display_data",
          "data": {
            "text/plain": [
              "<Figure size 504x360 with 1 Axes>"
            ],
            "image/png": "[encoded data removed]"
          },
          "metadata": {
            "needs_background": "light"
          }
        }
      ],
      "source": [
        "stacked_barplot(data,'has_job_experience','case_status')"
      ],
      "id": "6X5Y_zz5-tim"
    },
    {
      "cell_type": "markdown",
      "metadata": {
        "id": "yY233Lt33Ta4"
      },
      "source": [
        "* The graph shows that employees who had job experience are most likely certified more than who don't have."
      ],
      "id": "yY233Lt33Ta4"
    },
    {
      "cell_type": "markdown",
      "metadata": {
        "id": "4QbyCr3i_NbZ"
      },
      "source": [
        "In the United States, employees are paid at different intervals. Which pay unit is most likely to be certified for a visa?\n",
        "\n",
        "* **unit_of_wage Vs case status**"
      ],
      "id": "4QbyCr3i_NbZ"
    },
    {
      "cell_type": "code",
      "execution_count": 34,
      "metadata": {
        "colab": {
          "base_uri": "https://localhost:8080/",
          "height": 502
        },
        "id": "Z_w3Z0DL-tn6",
        "outputId": "18c917e8-9506-4bf6-aa46-693cd453d3a0"
      },
      "outputs": [
        {
          "output_type": "stream",
          "name": "stdout",
          "text": [
            "case_status   Certified  Denied    All\n",
            "unit_of_wage                          \n",
            "All               17018    8462  25480\n",
            "Year              16047    6915  22962\n",
            "Hour                747    1410   2157\n",
            "Week                169     103    272\n",
            "Month                55      34     89\n",
            "------------------------------------------------------------------------------------------------------------------------\n"
          ]
        },
        {
          "output_type": "display_data",
          "data": {
            "text/plain": [
              "<Figure size 648x360 with 1 Axes>"
            ],
            "image/png": "[encoded data removed]"
          },
          "metadata": {
            "needs_background": "light"
          }
        }
      ],
      "source": [
        "stacked_barplot(data,'unit_of_wage','case_status')"
      ],
      "id": "Z_w3Z0DL-tn6"
    },
    {
      "cell_type": "markdown",
      "metadata": {
        "id": "v3MR4IJd4KAl"
      },
      "source": [
        "* Emplyees who get paid yearly are most likely certified more than who get paid by hour."
      ],
      "id": "v3MR4IJd4KAl"
    },
    {
      "cell_type": "markdown",
      "metadata": {
        "id": "Z7jXBcAX_p7E"
      },
      "source": [
        "The US government has established a prevailing wage to protect local talent and foreign workers. How does the visa status change with the prevailing wage?\n",
        "\n",
        "* **prevailing_wage Vs Case status**"
      ],
      "id": "Z7jXBcAX_p7E"
    },
    {
      "cell_type": "code",
      "execution_count": 35,
      "metadata": {
        "colab": {
          "base_uri": "https://localhost:8080/",
          "height": 729
        },
        "id": "u1pxc5x4-ts6",
        "outputId": "4e06524b-d380-40af-92ff-e80fa2caa058"
      },
      "outputs": [
        {
          "output_type": "display_data",
          "data": {
            "text/plain": [
              "<Figure size 864x720 with 4 Axes>"
            ],
            "image/png": "[encoded data removed]"
          },
          "metadata": {
            "needs_background": "light"
          }
        }
      ],
      "source": [
        "distribution_plot_wrt_target(data, 'prevailing_wage', 'case_status')"
      ],
      "id": "u1pxc5x4-ts6"
    },
    {
      "cell_type": "markdown",
      "metadata": {
        "id": "G2sCbssX6igA"
      },
      "source": [
        "* The graph doesn't show a significant correlation of prevailing wage and the case status."
      ],
      "id": "G2sCbssX6igA"
    },
    {
      "cell_type": "markdown",
      "metadata": {
        "id": "alleged-spirituality"
      },
      "source": [
        "## Data Preprocessing\n",
        "\n",
        "- Missing value treatment (if needed)\n",
        "- Feature engineering \n",
        "- Outlier detection and treatment (if needed)\n",
        "- Preparing data for modeling \n",
        "- Any other preprocessing steps (if needed)"
      ],
      "id": "alleged-spirituality"
    },
    {
      "cell_type": "markdown",
      "metadata": {
        "id": "79H5j9JfAmSP"
      },
      "source": [
        "**Outlier Check**\n",
        "\n",
        "* Let's check for outliers in the data."
      ],
      "id": "79H5j9JfAmSP"
    },
    {
      "cell_type": "code",
      "execution_count": 36,
      "metadata": {
        "colab": {
          "base_uri": "https://localhost:8080/",
          "height": 250
        },
        "id": "abUP0pQNA7L1",
        "outputId": "4d338565-44c5-4cf7-f8ec-ee6948494b6f"
      },
      "outputs": [
        {
          "output_type": "display_data",
          "data": {
            "text/plain": [
              "<Figure size 1080x864 with 3 Axes>"
            ],
            "image/png": "[encoded data removed]"
          },
          "metadata": {
            "needs_background": "light"
          }
        }
      ],
      "source": [
        "# outlier detection using boxplot\n",
        "numeric_columns = data.select_dtypes(include=np.number).columns.tolist()\n",
        "\n",
        "plt.figure(figsize=(15, 12))\n",
        "\n",
        "for i, variable in enumerate(numeric_columns):\n",
        "    plt.subplot(4, 4, i + 1)\n",
        "    plt.boxplot(data[variable], whis=1.5)\n",
        "    plt.tight_layout()\n",
        "    plt.title(variable)\n",
        "\n",
        "plt.show()"
      ],
      "id": "abUP0pQNA7L1"
    },
    {
      "cell_type": "markdown",
      "metadata": {
        "id": "ayMMSFkQ8M8n"
      },
      "source": [
        "* The numerical columns have outliers but they are proper values,will not be treated."
      ],
      "id": "ayMMSFkQ8M8n"
    },
    {
      "cell_type": "markdown",
      "metadata": {
        "id": "LHrM6uxUBvqF"
      },
      "source": [
        "**Data Preparation for modeling**\n",
        "\n",
        "* We want to predict which visa will be certified.\n",
        "* Before we proceed to build a model, we'll have to encode categorical features.\n",
        "* We'll split the data into train and test to be able to evaluate the model that we build on the train data."
      ],
      "id": "LHrM6uxUBvqF"
    },
    {
      "cell_type": "code",
      "execution_count": 37,
      "metadata": {
        "id": "zWpCS3dwB5Nc"
      },
      "outputs": [],
      "source": [
        "data[\"case_status\"] = data[\"case_status\"].apply(lambda x: 1 if x == \"Certified\" else 0)\n",
        "\n",
        "\n",
        "X = data.drop([\"case_status\"], axis=1) \n",
        "Y = data[\"case_status\"]\n",
        "\n",
        "\n",
        "X = pd.get_dummies(X, drop_first=True)\n",
        "\n",
        "# Splitting data in train and test sets\n",
        "X_train, X_test, y_train, y_test = train_test_split(X, Y, test_size=0.30, random_state=1, stratify=Y)"
      ],
      "id": "zWpCS3dwB5Nc"
    },
    {
      "cell_type": "code",
      "execution_count": 38,
      "metadata": {
        "colab": {
          "base_uri": "https://localhost:8080/"
        },
        "id": "e-Ik-3pTB5P7",
        "outputId": "d90491ac-20e4-4021-e8e4-284b9998c588"
      },
      "outputs": [
        {
          "output_type": "stream",
          "name": "stdout",
          "text": [
            "Shape of Training set :  (17836, 21)\n",
            "Shape of test set :  (7644, 21)\n",
            "Percentage of classes in training set:\n",
            "1    0.667919\n",
            "0    0.332081\n",
            "Name: case_status, dtype: float64\n",
            "Percentage of classes in test set:\n",
            "1    0.667844\n",
            "0    0.332156\n",
            "Name: case_status, dtype: float64\n"
          ]
        }
      ],
      "source": [
        "print(\"Shape of Training set : \", X_train.shape)\n",
        "print(\"Shape of test set : \", X_test.shape)\n",
        "print(\"Percentage of classes in training set:\")\n",
        "print(y_train.value_counts(normalize=True))\n",
        "print(\"Percentage of classes in test set:\")\n",
        "print(y_test.value_counts(normalize=True))"
      ],
      "id": "e-Ik-3pTB5P7"
    },
    {
      "cell_type": "markdown",
      "metadata": {
        "id": "difficult-union"
      },
      "source": [
        "## EDA\n",
        "\n",
        "- It is a good idea to explore the data once again after manipulating it."
      ],
      "id": "difficult-union"
    },
    {
      "cell_type": "markdown",
      "metadata": {
        "id": "X0eT_eC9vt1G"
      },
      "source": [
        "As the dataset is clear from missing values, and the outliers are proper values \n",
        "So, no need to explore the data again as there are no changes happened."
      ],
      "id": "X0eT_eC9vt1G"
    },
    {
      "cell_type": "markdown",
      "metadata": {
        "id": "55PqdJlnE5rf"
      },
      "source": [
        "## Model evaluation criterion\n",
        "\n",
        "Model can make wrong predictions as:\n",
        "\n",
        "* Model predicts that the visa application will get certified but in reality, the visa application should get denied.\n",
        "\n",
        "* Model predicts that the visa application will not get certified but in reality, the visa application should get certified.\n",
        "\n",
        "**Which case is more important?**\n",
        "\n",
        "Both the cases are important as:\n",
        "\n",
        "* If a visa is certified when it had to be denied a wrong employee will get the job position while US citizens will miss the opportunity to work on that position.\n",
        "\n",
        "* If a visa is denied when it had to be certified the U.S. will lose a suitable human resource that can contribute to the economy.\n",
        "\n",
        "**How to reduce the losses?**\n",
        "\n",
        "F1 Score can be used a the metric for evaluation of the model, greater the F1 score higher are the chances of minimizing False Negatives and False Positives.\n",
        "\n",
        "We will use balanced class weights so that model focuses equally on both classes.\n",
        "\n",
        "First, let's create functions to calculate different metrics and confusion matrix so that we don't have to use the same code repeatedly for each model.\n",
        "\n",
        "The model_performance_classification_sklearn function will be used to check the model performance of models.\n",
        "\n",
        "The confusion_matrix_sklearn function will be used to plot the confusion matrix."
      ],
      "id": "55PqdJlnE5rf"
    },
    {
      "cell_type": "code",
      "execution_count": 39,
      "metadata": {
        "id": "interested-talent"
      },
      "outputs": [],
      "source": [
        "# defining a function to compute different metrics to check performance of a classification model built using sklearn\n",
        "\n",
        "\n",
        "def model_performance_classification_sklearn(model, predictors, target):\n",
        "    \"\"\"\n",
        "    Function to compute different metrics to check classification model performance\n",
        "\n",
        "    model: classifier\n",
        "    predictors: independent variables\n",
        "    target: dependent variable\n",
        "    \"\"\"\n",
        "\n",
        "    # predicting using the independent variables\n",
        "    pred = model.predict(predictors)\n",
        "\n",
        "    acc = accuracy_score(target, pred)  # to compute Accuracy\n",
        "    recall = recall_score(target, pred)  # to compute Recall\n",
        "    precision = precision_score(target, pred)  # to compute Precision\n",
        "    f1 = f1_score(target, pred)  # to compute F1-score\n",
        "\n",
        "    # creating a dataframe of metrics\n",
        "    df_perf = pd.DataFrame(\n",
        "        {\"Accuracy\": acc, \"Recall\": recall, \"Precision\": precision, \"F1\": f1,},\n",
        "        index=[0],\n",
        "    )\n",
        "\n",
        "    return df_perf"
      ],
      "id": "interested-talent"
    },
    {
      "cell_type": "code",
      "execution_count": 40,
      "metadata": {
        "id": "0ndmv9O-FAvm"
      },
      "outputs": [],
      "source": [
        "def confusion_matrix_sklearn(model, predictors, target):\n",
        "    \"\"\"\n",
        "    To plot the confusion_matrix with percentages\n",
        "\n",
        "    model: classifier\n",
        "    predictors: independent variables\n",
        "    target: dependent variable\n",
        "    \"\"\"\n",
        "    y_pred = model.predict(predictors)\n",
        "    cm = confusion_matrix(target, y_pred)\n",
        "    labels = np.asarray(\n",
        "        [\n",
        "            [\"{0:0.0f}\".format(item) + \"\\n{0:.2%}\".format(item / cm.flatten().sum())]\n",
        "            for item in cm.flatten()\n",
        "        ]\n",
        "    ).reshape(2, 2)\n",
        "\n",
        "    plt.figure(figsize=(6, 4))\n",
        "    sns.heatmap(cm, annot=labels, fmt=\"\")\n",
        "    plt.ylabel(\"True label\")\n",
        "    plt.xlabel(\"Predicted label\")"
      ],
      "id": "0ndmv9O-FAvm"
    },
    {
      "cell_type": "markdown",
      "metadata": {
        "id": "t3C-Fh7wD4Qm"
      },
      "source": [
        "## Descision Tree Model and hyperparameter tuning"
      ],
      "id": "t3C-Fh7wD4Qm"
    },
    {
      "cell_type": "code",
      "execution_count": 41,
      "metadata": {
        "colab": {
          "base_uri": "https://localhost:8080/",
          "height": 388
        },
        "id": "oP5i6UToERaY",
        "outputId": "e929f2ed-b164-41cf-eb69-8f3d2ae34e85"
      },
      "outputs": [
        {
          "output_type": "stream",
          "name": "stdout",
          "text": [
            "Training performance:\n",
            "    Accuracy  Recall  Precision   F1\n",
            "0       1.0     1.0        1.0  1.0\n",
            "Testing performance:\n",
            "    Accuracy    Recall  Precision        F1\n",
            "0  0.664835  0.742801   0.752232  0.747487\n"
          ]
        },
        {
          "output_type": "display_data",
          "data": {
            "text/plain": [
              "<Figure size 432x288 with 2 Axes>"
            ],
            "image/png": "[encoded data removed]"
          },
          "metadata": {
            "needs_background": "light"
          }
        }
      ],
      "source": [
        "#Fitting the model\n",
        "d_tree = DecisionTreeClassifier(random_state=1)\n",
        "d_tree.fit(X_train,y_train)\n",
        "\n",
        "#Calculating different metrics\n",
        "d_tree_model_train_perf=model_performance_classification_sklearn(d_tree,X_train,y_train)\n",
        "print(\"Training performance:\\n\",d_tree_model_train_perf)\n",
        "d_tree_model_test_perf=model_performance_classification_sklearn(d_tree,X_test,y_test)\n",
        "print(\"Testing performance:\\n\",d_tree_model_test_perf)\n",
        "\n",
        "#Creating confusion matrix\n",
        "confusion_matrix_sklearn(d_tree,X_test,y_test)"
      ],
      "id": "oP5i6UToERaY"
    },
    {
      "cell_type": "markdown",
      "metadata": {
        "id": "ld3mszNAXFxC"
      },
      "source": [
        "* The decision tree is overfitting the training data.\n",
        "\n",
        "Let's try hyperparameter tuning and see if the model performance improves."
      ],
      "id": "ld3mszNAXFxC"
    },
    {
      "cell_type": "markdown",
      "metadata": {
        "id": "gyNgDhHkXQxc"
      },
      "source": [
        "**Hyperparameter Tuning**"
      ],
      "id": "gyNgDhHkXQxc"
    },
    {
      "cell_type": "code",
      "execution_count": 42,
      "metadata": {
        "colab": {
          "base_uri": "https://localhost:8080/"
        },
        "id": "dZFcP_ChERcy",
        "outputId": "0e08637b-b41a-4411-9b00-56c9d50edcec"
      },
      "outputs": [
        {
          "output_type": "execute_result",
          "data": {
            "text/plain": [
              "DecisionTreeClassifier(class_weight='balanced', max_depth=2, max_leaf_nodes=2,\n",
              "                       min_impurity_decrease=0.0001, random_state=1)"
            ]
          },
          "metadata": {},
          "execution_count": 42
        }
      ],
      "source": [
        "#Choose the type of classifier. \n",
        "dtree_estimator = DecisionTreeClassifier(class_weight=\"balanced\",random_state=1)\n",
        "\n",
        "# Grid of parameters to choose from\n",
        "parameters = {'max_depth': np.arange(2,30), \n",
        "              'min_samples_leaf': [1, 2, 5, 7, 10],\n",
        "              'max_leaf_nodes' : [2, 3, 5, 10,15],\n",
        "              'min_impurity_decrease': [0.0001,0.001,0.01,0.1]\n",
        "             }\n",
        "\n",
        "# Type of scoring used to compare parameter combinations\n",
        "scorer = metrics.make_scorer(metrics.f1_score)\n",
        "\n",
        "# Run the grid search\n",
        "grid_obj = GridSearchCV(dtree_estimator, parameters, scoring=scorer,n_jobs=-1)\n",
        "grid_obj = grid_obj.fit(X_train, y_train)\n",
        "\n",
        "# Set the clf to the best combination of parameters\n",
        "dtree_estimator = grid_obj.best_estimator_\n",
        "\n",
        "# Fit the best algorithm to the data. \n",
        "dtree_estimator.fit(X_train, y_train)"
      ],
      "id": "dZFcP_ChERcy"
    },
    {
      "cell_type": "code",
      "execution_count": 43,
      "metadata": {
        "colab": {
          "base_uri": "https://localhost:8080/",
          "height": 388
        },
        "id": "VVZoVgIxERl5",
        "outputId": "f91542f2-d5f8-4b55-98cd-ee47ff686f45"
      },
      "outputs": [
        {
          "output_type": "stream",
          "name": "stdout",
          "text": [
            "Training performance:\n",
            "    Accuracy    Recall  Precision        F1\n",
            "0  0.712548  0.931923   0.720067  0.812411\n",
            "Testing performance:\n",
            "    Accuracy    Recall  Precision        F1\n",
            "0  0.706567  0.930852   0.715447  0.809058\n"
          ]
        },
        {
          "output_type": "display_data",
          "data": {
            "text/plain": [
              "<Figure size 432x288 with 2 Axes>"
            ],
            "image/png": "[encoded data removed]"
          },
          "metadata": {
            "needs_background": "light"
          }
        }
      ],
      "source": [
        "#Calculating different metrics\n",
        "dtree_estimator_model_train_perf=model_performance_classification_sklearn(dtree_estimator,X_train,y_train)\n",
        "print(\"Training performance:\\n\",dtree_estimator_model_train_perf)\n",
        "dtree_estimator_model_test_perf=model_performance_classification_sklearn(dtree_estimator,X_test,y_test)\n",
        "print(\"Testing performance:\\n\",dtree_estimator_model_test_perf)\n",
        "\n",
        "#Creating confusion matrix\n",
        "confusion_matrix_sklearn(dtree_estimator,X_test,y_test)"
      ],
      "id": "VVZoVgIxERl5"
    },
    {
      "cell_type": "markdown",
      "metadata": {
        "id": "eXh6AjddeHaR"
      },
      "source": [
        "* The overfitting has reduced but the test f1-score has also increased.\n",
        "* Let's try some other models."
      ],
      "id": "eXh6AjddeHaR"
    },
    {
      "cell_type": "markdown",
      "metadata": {
        "id": "domestic-iceland"
      },
      "source": [
        "## Building bagging and boosting models"
      ],
      "id": "domestic-iceland"
    },
    {
      "cell_type": "markdown",
      "metadata": {
        "id": "gdfatNe1ydh9"
      },
      "source": [
        "###**Bagging**"
      ],
      "id": "gdfatNe1ydh9"
    },
    {
      "cell_type": "markdown",
      "metadata": {
        "id": "w8lYI7ZVegtP"
      },
      "source": [
        "### Random Forest Classifier"
      ],
      "id": "w8lYI7ZVegtP"
    },
    {
      "cell_type": "code",
      "execution_count": 44,
      "metadata": {
        "colab": {
          "base_uri": "https://localhost:8080/",
          "height": 388
        },
        "id": "unknown-institution",
        "outputId": "64544581-ac98-4e9a-e995-a4e8eb7933d5"
      },
      "outputs": [
        {
          "output_type": "stream",
          "name": "stdout",
          "text": [
            "Training performance:\n",
            "    Accuracy    Recall  Precision        F1\n",
            "0  0.999944  0.999916        1.0  0.999958\n",
            "Testing performance:\n",
            "    Accuracy    Recall  Precision        F1\n",
            "0  0.720827  0.832125   0.768869  0.799247\n"
          ]
        },
        {
          "output_type": "display_data",
          "data": {
            "text/plain": [
              "<Figure size 432x288 with 2 Axes>"
            ],
            "image/png": "[encoded data removed]"
          },
          "metadata": {
            "needs_background": "light"
          }
        }
      ],
      "source": [
        "#Fitting the model\n",
        "rf_estimator = RandomForestClassifier(random_state=1)\n",
        "rf_estimator.fit(X_train,y_train)\n",
        "\n",
        "#Calculating different metrics\n",
        "rf_estimator_model_train_perf=model_performance_classification_sklearn(rf_estimator,X_train,y_train)\n",
        "print(\"Training performance:\\n\",rf_estimator_model_train_perf)\n",
        "rf_estimator_model_test_perf=model_performance_classification_sklearn(rf_estimator,X_test,y_test)\n",
        "print(\"Testing performance:\\n\",rf_estimator_model_test_perf)\n",
        "\n",
        "#Creating confusion matrix\n",
        "confusion_matrix_sklearn(rf_estimator,X_test,y_test)"
      ],
      "id": "unknown-institution"
    },
    {
      "cell_type": "markdown",
      "metadata": {
        "id": "39gdob2ae1Va"
      },
      "source": [
        "* Random forest is giving a slightly less test f1-score than decision trees but it is overfitting the training data."
      ],
      "id": "39gdob2ae1Va"
    },
    {
      "cell_type": "markdown",
      "metadata": {
        "id": "wlTLPqvttNFN"
      },
      "source": [
        "### Bagging Classifier"
      ],
      "id": "wlTLPqvttNFN"
    },
    {
      "cell_type": "code",
      "execution_count": 45,
      "metadata": {
        "colab": {
          "base_uri": "https://localhost:8080/",
          "height": 352
        },
        "id": "tLXhItZ4tUum",
        "outputId": "09c5e26c-50a2-4cf2-fc67-0d4e3158a928"
      },
      "outputs": [
        {
          "output_type": "stream",
          "name": "stdout",
          "text": [
            "   Accuracy    Recall  Precision        F1\n",
            "0  0.985198  0.985982    0.99181  0.988887\n",
            "   Accuracy    Recall  Precision        F1\n",
            "0  0.691523  0.764153   0.771711  0.767913\n"
          ]
        },
        {
          "output_type": "display_data",
          "data": {
            "text/plain": [
              "<Figure size 432x288 with 2 Axes>"
            ],
            "image/png": "[encoded data removed]"
          },
          "metadata": {
            "needs_background": "light"
          }
        }
      ],
      "source": [
        "#Fitting the model\n",
        "bagging_classifier = BaggingClassifier(random_state=1)\n",
        "bagging_classifier.fit(X_train,y_train)\n",
        "\n",
        "#Calculating different metrics\n",
        "bagging_classifier_model_train_perf=model_performance_classification_sklearn(bagging_classifier,X_train,y_train)\n",
        "print(bagging_classifier_model_train_perf)\n",
        "bagging_classifier_model_test_perf=model_performance_classification_sklearn(bagging_classifier,X_test,y_test)\n",
        "print(bagging_classifier_model_test_perf)\n",
        "\n",
        "#Creating confusion matrix\n",
        "confusion_matrix_sklearn(bagging_classifier,X_test,y_test)"
      ],
      "id": "tLXhItZ4tUum"
    },
    {
      "cell_type": "markdown",
      "metadata": {
        "id": "jTlHOxZ5Y9BT"
      },
      "source": [
        "* Bagging classifier is overfitting the training data."
      ],
      "id": "jTlHOxZ5Y9BT"
    },
    {
      "cell_type": "markdown",
      "metadata": {
        "id": "OIH-MYi8ySZ2"
      },
      "source": [
        "###**Boosting**"
      ],
      "id": "OIH-MYi8ySZ2"
    },
    {
      "cell_type": "markdown",
      "metadata": {
        "id": "bAXcY5hfypJL"
      },
      "source": [
        "### AdaBoost Classifier"
      ],
      "id": "bAXcY5hfypJL"
    },
    {
      "cell_type": "code",
      "execution_count": 46,
      "metadata": {
        "colab": {
          "base_uri": "https://localhost:8080/",
          "height": 355
        },
        "id": "jCmm52dnyYWb",
        "outputId": "f7069ae3-d282-4a7e-ad76-253263513e6c"
      },
      "outputs": [
        {
          "output_type": "stream",
          "name": "stdout",
          "text": [
            "   Accuracy    Recall  Precision       F1\n",
            "0  0.738226  0.887182   0.760688  0.81908\n",
            "   Accuracy    Recall  Precision        F1\n",
            "0  0.734301  0.885015   0.757799  0.816481\n"
          ]
        },
        {
          "output_type": "display_data",
          "data": {
            "text/plain": [
              "<Figure size 432x288 with 2 Axes>"
            ],
            "image/png": "[encoded data removed]"
          },
          "metadata": {
            "needs_background": "light"
          }
        }
      ],
      "source": [
        "#Fitting the model\n",
        "ab_classifier = AdaBoostClassifier(random_state=1)\n",
        "ab_classifier.fit(X_train,y_train)\n",
        "\n",
        "#Calculating different metrics\n",
        "ab_classifier_model_train_perf=model_performance_classification_sklearn(ab_classifier,X_train,y_train)\n",
        "print(ab_classifier_model_train_perf)\n",
        "ab_classifier_model_test_perf=model_performance_classification_sklearn(ab_classifier,X_test,y_test)\n",
        "print(ab_classifier_model_test_perf)\n",
        "\n",
        "#Creating confusion matrix\n",
        "confusion_matrix_sklearn(ab_classifier,X_test,y_test)"
      ],
      "id": "jCmm52dnyYWb"
    },
    {
      "cell_type": "markdown",
      "metadata": {
        "id": "d_Cgrg8T6yrj"
      },
      "source": [
        "* Adaboost is giving more generalized performance than previous models and the test f1-score is getting higher."
      ],
      "id": "d_Cgrg8T6yrj"
    },
    {
      "cell_type": "markdown",
      "metadata": {
        "id": "yNuacIYO1ERp"
      },
      "source": [
        "### Gradient Boosting Classifier"
      ],
      "id": "yNuacIYO1ERp"
    },
    {
      "cell_type": "code",
      "execution_count": 47,
      "metadata": {
        "colab": {
          "base_uri": "https://localhost:8080/",
          "height": 388
        },
        "id": "BZr-8S34yYk0",
        "outputId": "42417594-c174-43ec-b337-fd02d614e700"
      },
      "outputs": [
        {
          "output_type": "stream",
          "name": "stdout",
          "text": [
            "Training performance:\n",
            "    Accuracy   Recall  Precision        F1\n",
            "0  0.758802  0.88374   0.783042  0.830349\n",
            "Testing performance:\n",
            "    Accuracy    Recall  Precision        F1\n",
            "0  0.744767  0.876004   0.772366  0.820927\n"
          ]
        },
        {
          "output_type": "display_data",
          "data": {
            "text/plain": [
              "<Figure size 432x288 with 2 Axes>"
            ],
            "image/png": "[encoded data removed]"
          },
          "metadata": {
            "needs_background": "light"
          }
        }
      ],
      "source": [
        "#Fitting the model\n",
        "gb_classifier = GradientBoostingClassifier(random_state=1)\n",
        "gb_classifier.fit(X_train,y_train)\n",
        "\n",
        "#Calculating different metrics\n",
        "gb_classifier_model_train_perf=model_performance_classification_sklearn(gb_classifier,X_train,y_train)\n",
        "print(\"Training performance:\\n\",gb_classifier_model_train_perf)\n",
        "gb_classifier_model_test_perf=model_performance_classification_sklearn(gb_classifier,X_test,y_test)\n",
        "print(\"Testing performance:\\n\",gb_classifier_model_test_perf)\n",
        "\n",
        "#Creating confusion matrix\n",
        "confusion_matrix_sklearn(gb_classifier,X_test,y_test)"
      ],
      "id": "BZr-8S34yYk0"
    },
    {
      "cell_type": "markdown",
      "metadata": {
        "id": "mTopa_Wc-krl"
      },
      "source": [
        "* The gradient boosting classifier is not overfitting the training data.\n",
        "and giving a generalized performance about the data.\n",
        "\n",
        "* GB classifier is giving a slightly more test f1-score than Adaboost classifier."
      ],
      "id": "mTopa_Wc-krl"
    },
    {
      "cell_type": "markdown",
      "metadata": {
        "id": "ivas_7PS4GHJ"
      },
      "source": [
        "### XGBoost Classifier"
      ],
      "id": "ivas_7PS4GHJ"
    },
    {
      "cell_type": "code",
      "execution_count": 48,
      "metadata": {
        "colab": {
          "base_uri": "https://localhost:8080/",
          "height": 388
        },
        "id": "9fBf412u4FbF",
        "outputId": "8b895b0a-f470-4a42-9802-5e02b40a3e8a"
      },
      "outputs": [
        {
          "output_type": "stream",
          "name": "stdout",
          "text": [
            "Training performance:\n",
            "    Accuracy    Recall  Precision        F1\n",
            "0  0.756279  0.883573   0.780513  0.828852\n",
            "Testing performance:\n",
            "    Accuracy    Recall  Precision        F1\n",
            "0  0.744636  0.877375   0.771576  0.821082\n"
          ]
        },
        {
          "output_type": "display_data",
          "data": {
            "text/plain": [
              "<Figure size 432x288 with 2 Axes>"
            ],
            "image/png": "[encoded data removed]"
          },
          "metadata": {
            "needs_background": "light"
          }
        }
      ],
      "source": [
        "#Fitting the model\n",
        "xgb_classifier = XGBClassifier(random_state=1, eval_metric='logloss')\n",
        "xgb_classifier.fit(X_train,y_train)\n",
        "\n",
        "#Calculating different metrics\n",
        "xgb_classifier_model_train_perf=model_performance_classification_sklearn(xgb_classifier,X_train,y_train)\n",
        "print(\"Training performance:\\n\",xgb_classifier_model_train_perf)\n",
        "xgb_classifier_model_test_perf=model_performance_classification_sklearn(xgb_classifier,X_test,y_test)\n",
        "print(\"Testing performance:\\n\",xgb_classifier_model_test_perf)\n",
        "\n",
        "#Creating confusion matrix\n",
        "confusion_matrix_sklearn(xgb_classifier,X_test,y_test)"
      ],
      "id": "9fBf412u4FbF"
    },
    {
      "cell_type": "markdown",
      "metadata": {
        "id": "_vbd41cxG9q-"
      },
      "source": [
        "* Xgboost classifier is not overfitting the training data.\n",
        "* F1 score is getting higher than the other models."
      ],
      "id": "_vbd41cxG9q-"
    },
    {
      "cell_type": "markdown",
      "metadata": {
        "id": "prime-athletics"
      },
      "source": [
        "##  Will tuning the hyperparameters improve the model performance?"
      ],
      "id": "prime-athletics"
    },
    {
      "cell_type": "markdown",
      "metadata": {
        "id": "6KFh23kMnSL3"
      },
      "source": [
        "Let's try hyperparameter tuning and see if the model performance improves.\n",
        "\n",
        "**Random Forest Hyperparameter Tuning**"
      ],
      "id": "6KFh23kMnSL3"
    },
    {
      "cell_type": "code",
      "execution_count": 49,
      "metadata": {
        "colab": {
          "base_uri": "https://localhost:8080/"
        },
        "id": "banned-difficulty",
        "outputId": "3fcb995e-08e8-4765-a3e2-5136f9613983"
      },
      "outputs": [
        {
          "output_type": "execute_result",
          "data": {
            "text/plain": [
              "RandomForestClassifier(max_depth=10, max_features='sqrt', min_samples_split=7,\n",
              "                       n_estimators=20, oob_score=True, random_state=1)"
            ]
          },
          "metadata": {},
          "execution_count": 49
        }
      ],
      "source": [
        "# Choose the type of classifier. \n",
        "rf_tuned = RandomForestClassifier(random_state=1,oob_score=True,bootstrap=True)\n",
        "\n",
        "parameters = {  \n",
        "                \"max_depth\": list(np.arange(5, 15, 5)),\n",
        "                \"max_features\": [\"sqrt\", \"log2\"],\n",
        "                \"min_samples_split\": [5, 7],\n",
        "                \"n_estimators\": np.arange(15, 26, 5),}\n",
        "\n",
        "\n",
        "# Type of scoring used to compare parameter combinations\n",
        "scorer = metrics.make_scorer(metrics.f1_score)\n",
        "\n",
        "# Run the grid search\n",
        "grid_obj = GridSearchCV(rf_tuned, parameters, scoring=scorer, cv=5,n_jobs=-1)\n",
        "grid_obj = grid_obj.fit(X_train, y_train)\n",
        "\n",
        "# Set the clf to the best combination of parameters\n",
        "rf_tuned = grid_obj.best_estimator_\n",
        "\n",
        "# Fit the best algorithm to the data. \n",
        "rf_tuned.fit(X_train, y_train)"
      ],
      "id": "banned-difficulty"
    },
    {
      "cell_type": "code",
      "execution_count": 50,
      "metadata": {
        "colab": {
          "base_uri": "https://localhost:8080/",
          "height": 388
        },
        "id": "2lfTBJ2LsBJi",
        "outputId": "d9e6e8c5-c6f1-4965-d631-d45e37e1efb5"
      },
      "outputs": [
        {
          "output_type": "stream",
          "name": "stdout",
          "text": [
            "Training performance:\n",
            "    Accuracy   Recall  Precision        F1\n",
            "0  0.769119  0.91866   0.776556  0.841652\n",
            "Testing performance:\n",
            "    Accuracy    Recall  Precision       F1\n",
            "0  0.738095  0.898923   0.755391  0.82093\n"
          ]
        },
        {
          "output_type": "display_data",
          "data": {
            "text/plain": [
              "<Figure size 432x288 with 2 Axes>"
            ],
            "image/png": "[encoded data removed]"
          },
          "metadata": {
            "needs_background": "light"
          }
        }
      ],
      "source": [
        "#Calculating different metrics\n",
        "rf_tuned_model_train_perf=model_performance_classification_sklearn(rf_tuned,X_train,y_train)\n",
        "print(\"Training performance:\\n\",rf_tuned_model_train_perf)\n",
        "rf_tuned_model_test_perf=model_performance_classification_sklearn(rf_tuned,X_test,y_test)\n",
        "print(\"Testing performance:\\n\",rf_tuned_model_test_perf)\n",
        "\n",
        "#Creating confusion matrix\n",
        "confusion_matrix_sklearn(rf_tuned,X_test,y_test)"
      ],
      "id": "2lfTBJ2LsBJi"
    },
    {
      "cell_type": "markdown",
      "metadata": {
        "id": "tNRPmC_H2142"
      },
      "source": [
        "* The overfitting has reduced significantly and the model performance has improved.\n",
        "* The test recall and test f1-score have increased."
      ],
      "id": "tNRPmC_H2142"
    },
    {
      "cell_type": "markdown",
      "metadata": {
        "id": "yYso059rteex"
      },
      "source": [
        "**Bagging Hyperparameter Tuning**"
      ],
      "id": "yYso059rteex"
    },
    {
      "cell_type": "code",
      "execution_count": 51,
      "metadata": {
        "colab": {
          "base_uri": "https://localhost:8080/"
        },
        "id": "VYvrKk5btd5j",
        "outputId": "14c33519-301f-4347-afee-d1ccddb1e13b"
      },
      "outputs": [
        {
          "output_type": "execute_result",
          "data": {
            "text/plain": [
              "BaggingClassifier(max_features=0.7, max_samples=0.7, n_estimators=100,\n",
              "                  random_state=1)"
            ]
          },
          "metadata": {},
          "execution_count": 51
        }
      ],
      "source": [
        "# Choose the type of classifier. \n",
        "bagging_estimator_tuned = BaggingClassifier(random_state=1)\n",
        "\n",
        "# Grid of parameters to choose from\n",
        "parameters = {\"max_samples\": [0.7, 0.9],\n",
        "              \"max_features\": [0.7, 0.9],\n",
        "              \"n_estimators\": np.arange(90, 111, 10),\n",
        "}\n",
        "# Type of scoring used to compare parameter combinations\n",
        "scorer = metrics.make_scorer(metrics.f1_score)\n",
        "\n",
        "# Run the grid search\n",
        "grid_obj = GridSearchCV(bagging_estimator_tuned, parameters, scoring=scorer,cv=5)\n",
        "grid_obj = grid_obj.fit(X_train, y_train)\n",
        "\n",
        "# Set the clf to the best combination of parameters\n",
        "bagging_estimator_tuned = grid_obj.best_estimator_\n",
        "\n",
        "# Fit the best algorithm to the data.\n",
        "bagging_estimator_tuned.fit(X_train, y_train)"
      ],
      "id": "VYvrKk5btd5j"
    },
    {
      "cell_type": "code",
      "execution_count": 52,
      "metadata": {
        "colab": {
          "base_uri": "https://localhost:8080/",
          "height": 353
        },
        "id": "kdaDtiwRxWPT",
        "outputId": "58a61fff-4063-424a-f78e-9c0c06b9853f"
      },
      "outputs": [
        {
          "output_type": "stream",
          "name": "stdout",
          "text": [
            "   Accuracy    Recall  Precision        F1\n",
            "0  0.996187  0.999916   0.994407  0.997154\n",
            "   Accuracy    Recall  Precision        F1\n",
            "0  0.724228  0.895397   0.743857  0.812622\n"
          ]
        },
        {
          "output_type": "display_data",
          "data": {
            "text/plain": [
              "<Figure size 432x288 with 2 Axes>"
            ],
            "image/png": "[encoded data removed]"
          },
          "metadata": {
            "needs_background": "light"
          }
        }
      ],
      "source": [
        "#Calculating different metrics\n",
        "bagging_estimator_tuned_model_train_perf=model_performance_classification_sklearn(bagging_estimator_tuned,X_train,y_train)\n",
        "print(bagging_estimator_tuned_model_train_perf)\n",
        "bagging_estimator_tuned_model_test_perf=model_performance_classification_sklearn(bagging_estimator_tuned,X_test,y_test)\n",
        "print(bagging_estimator_tuned_model_test_perf)\n",
        "\n",
        "#Creating confusion matrix\n",
        "confusion_matrix_sklearn(bagging_estimator_tuned,X_test,y_test)"
      ],
      "id": "kdaDtiwRxWPT"
    },
    {
      "cell_type": "markdown",
      "metadata": {
        "id": "CV_eABtu5iYg"
      },
      "source": [
        "* The bagging model performance has increased after hyperparameter tuning."
      ],
      "id": "CV_eABtu5iYg"
    },
    {
      "cell_type": "markdown",
      "metadata": {
        "id": "uOZaLSIby7BO"
      },
      "source": [
        "**AdaBoost Hyperparameter Tuning**"
      ],
      "id": "uOZaLSIby7BO"
    },
    {
      "cell_type": "code",
      "execution_count": 53,
      "metadata": {
        "colab": {
          "base_uri": "https://localhost:8080/"
        },
        "id": "x_AFODrBzAKP",
        "outputId": "0a8a7e96-1ed1-4ef0-9176-9533645c91a5"
      },
      "outputs": [
        {
          "output_type": "execute_result",
          "data": {
            "text/plain": [
              "AdaBoostClassifier(base_estimator=DecisionTreeClassifier(class_weight='balanced',\n",
              "                                                         max_depth=1,\n",
              "                                                         random_state=1),\n",
              "                   learning_rate=0.1, n_estimators=100, random_state=1)"
            ]
          },
          "metadata": {},
          "execution_count": 53
        }
      ],
      "source": [
        "# Choose the type of classifier. \n",
        "abc_tuned = AdaBoostClassifier(random_state=1)\n",
        "\n",
        "# Grid of parameters to choose from\n",
        "parameters = {\n",
        "    # Let's try different max_depth for base_estimator\n",
        "    \"base_estimator\": [\n",
        "        DecisionTreeClassifier(max_depth=1, class_weight=\"balanced\", random_state=1),\n",
        "        DecisionTreeClassifier(max_depth=2, class_weight=\"balanced\", random_state=1),\n",
        "    ],\n",
        "    \"n_estimators\": np.arange(80, 101, 10),\n",
        "    \"learning_rate\": np.arange(0.1, 0.4, 0.1),\n",
        "}\n",
        "\n",
        "# Type of scoring used to compare parameter  combinations\n",
        "scorer = metrics.make_scorer(metrics.f1_score)\n",
        "\n",
        "# Run the grid search\n",
        "grid_obj = GridSearchCV(abc_tuned, parameters, scoring=scorer,cv=5)\n",
        "grid_obj = grid_obj.fit(X_train, y_train)\n",
        "\n",
        "# Set the clf to the best combination of parameters\n",
        "abc_tuned = grid_obj.best_estimator_\n",
        "\n",
        "# Fit the best algorithm to the data.\n",
        "abc_tuned.fit(X_train, y_train)"
      ],
      "id": "x_AFODrBzAKP"
    },
    {
      "cell_type": "code",
      "execution_count": 54,
      "metadata": {
        "colab": {
          "base_uri": "https://localhost:8080/",
          "height": 352
        },
        "id": "IYQQrQirzATN",
        "outputId": "0a1468a6-1d4a-490a-afd5-b910303ef394"
      },
      "outputs": [
        {
          "output_type": "stream",
          "name": "stdout",
          "text": [
            "   Accuracy    Recall  Precision        F1\n",
            "0  0.718995  0.781247   0.794587  0.787861\n",
            "   Accuracy    Recall  Precision        F1\n",
            "0   0.71651  0.781391   0.791468  0.786397\n"
          ]
        },
        {
          "output_type": "display_data",
          "data": {
            "text/plain": [
              "<Figure size 432x288 with 2 Axes>"
            ],
            "image/png": "[encoded data removed]"
          },
          "metadata": {
            "needs_background": "light"
          }
        }
      ],
      "source": [
        "#Calculating different metrics\n",
        "abc_tuned_model_train_perf=model_performance_classification_sklearn(abc_tuned,X_train,y_train)\n",
        "print(abc_tuned_model_train_perf)\n",
        "abc_tuned_model_test_perf=model_performance_classification_sklearn(abc_tuned,X_test,y_test)\n",
        "print(abc_tuned_model_test_perf)\n",
        "\n",
        "#Creating confusion matrix\n",
        "confusion_matrix_sklearn(abc_tuned,X_test,y_test)"
      ],
      "id": "IYQQrQirzATN"
    },
    {
      "cell_type": "markdown",
      "metadata": {
        "id": "DEOrpYxN7Ku-"
      },
      "source": [
        "* Surprisingly, the Adaboost model performance has decreased after hyperparameter tuning."
      ],
      "id": "DEOrpYxN7Ku-"
    },
    {
      "cell_type": "markdown",
      "metadata": {
        "id": "DSINHwQf1Zd6"
      },
      "source": [
        "**Gradient Boost Hyperparameter Tuning**"
      ],
      "id": "DSINHwQf1Zd6"
    },
    {
      "cell_type": "code",
      "execution_count": 55,
      "metadata": {
        "id": "Qq7deLe71Ymy",
        "colab": {
          "base_uri": "https://localhost:8080/"
        },
        "outputId": "3dc447b8-6918-4ba5-abd5-3f7f36ddb7bb"
      },
      "outputs": [
        {
          "output_type": "execute_result",
          "data": {
            "text/plain": [
              "GradientBoostingClassifier(init=AdaBoostClassifier(random_state=1),\n",
              "                           max_features=0.8, n_estimators=200, random_state=1,\n",
              "                           subsample=1)"
            ]
          },
          "metadata": {},
          "execution_count": 55
        }
      ],
      "source": [
        "# Choose the type of classifier. \n",
        "gbc_tuned = GradientBoostingClassifier(init=AdaBoostClassifier(random_state=1),random_state=1)\n",
        "\n",
        "# Grid of parameters to choose from\n",
        "parameters = {\n",
        "    \"n_estimators\": [200, 250],\n",
        "    \"subsample\": [0.9, 1],\n",
        "    \"max_features\": [0.8, 0.9],\n",
        "    \"learning_rate\": np.arange(0.1, 0.21, 0.1),\n",
        "}\n",
        "# Type of scoring used to compare parameter combinations\n",
        "scorer = metrics.make_scorer(metrics.f1_score)\n",
        "\n",
        "# Run the grid search\n",
        "grid_obj = GridSearchCV(gbc_tuned, parameters, scoring=scorer,cv=5)\n",
        "grid_obj = grid_obj.fit(X_train, y_train)\n",
        "\n",
        "# Set the clf to the best combination of parameters\n",
        "gbc_tuned = grid_obj.best_estimator_\n",
        "\n",
        "# Fit the best algorithm to the data.\n",
        "gbc_tuned.fit(X_train, y_train)"
      ],
      "id": "Qq7deLe71Ymy"
    },
    {
      "cell_type": "code",
      "execution_count": 56,
      "metadata": {
        "id": "y_mxuk1S14V-",
        "colab": {
          "base_uri": "https://localhost:8080/",
          "height": 388
        },
        "outputId": "1fe23334-0070-43e6-e6d4-36bbb0450145"
      },
      "outputs": [
        {
          "output_type": "stream",
          "name": "stdout",
          "text": [
            "Training performance:\n",
            "    Accuracy    Recall  Precision        F1\n",
            "0  0.764017  0.882649   0.789059  0.833234\n",
            "Testing performance:\n",
            "    Accuracy    Recall  Precision        F1\n",
            "0  0.743459  0.871303   0.773296  0.819379\n"
          ]
        },
        {
          "output_type": "display_data",
          "data": {
            "text/plain": [
              "<Figure size 432x288 with 2 Axes>"
            ],
            "image/png": "[encoded data removed]"
          },
          "metadata": {
            "needs_background": "light"
          }
        }
      ],
      "source": [
        "#Calculating different metrics\n",
        "gbc_tuned_model_train_perf=model_performance_classification_sklearn(gbc_tuned,X_train,y_train)\n",
        "print(\"Training performance:\\n\",gbc_tuned_model_train_perf)\n",
        "gbc_tuned_model_test_perf=model_performance_classification_sklearn(gbc_tuned,X_test,y_test)\n",
        "print(\"Testing performance:\\n\",gbc_tuned_model_test_perf)\n",
        "\n",
        "#Creating confusion matrix\n",
        "confusion_matrix_sklearn(gbc_tuned,X_test,y_test)"
      ],
      "id": "y_mxuk1S14V-"
    },
    {
      "cell_type": "markdown",
      "metadata": {
        "id": "6qBBHwi3_QDL"
      },
      "source": [
        "* Unfortunately, the gradientboost model has almost the same performance after hyperparameter tuning."
      ],
      "id": "6qBBHwi3_QDL"
    },
    {
      "cell_type": "markdown",
      "metadata": {
        "id": "Z2Jtifms4dY3"
      },
      "source": [
        "**XGBoost Hyperparameter Tuning**"
      ],
      "id": "Z2Jtifms4dY3"
    },
    {
      "cell_type": "code",
      "execution_count": 57,
      "metadata": {
        "id": "fIv1h5r44d2K",
        "colab": {
          "base_uri": "https://localhost:8080/"
        },
        "outputId": "5934283e-e1f9-4113-98f3-a1c1c050cd27"
      },
      "outputs": [
        {
          "output_type": "execute_result",
          "data": {
            "text/plain": [
              "XGBClassifier(colsample_bylevel=0.9, colsample_bytree=0.9,\n",
              "              eval_metric='logloss', gamma=5, n_estimators=200, random_state=1)"
            ]
          },
          "metadata": {},
          "execution_count": 57
        }
      ],
      "source": [
        "# Choose the type of classifier. \n",
        "xgb_tuned = XGBClassifier(random_state=1, eval_metric='logloss')\n",
        "\n",
        "# Grid of parameters to choose from\n",
        "parameters = {\n",
        "    \"n_estimators\": np.arange(150, 250, 50),\n",
        "    \"scale_pos_weight\": [1, 2],\n",
        "    \"subsample\": [0.9, 1],\n",
        "    \"learning_rate\": np.arange(0.1, 0.21, 0.1),\n",
        "    \"gamma\": [3, 5],\n",
        "    \"colsample_bytree\": [0.8, 0.9],\n",
        "    \"colsample_bylevel\": [ 0.9, 1],\n",
        "}\n",
        "\n",
        "# Type of scoring used to compare parameter combinations\n",
        "scorer = metrics.make_scorer(metrics.f1_score)\n",
        "\n",
        "# Run the grid search\n",
        "grid_obj = GridSearchCV(xgb_tuned, parameters,scoring=scorer,cv=5)\n",
        "grid_obj = grid_obj.fit(X_train, y_train)\n",
        "\n",
        "# Set the clf to the best combination of parameters\n",
        "xgb_tuned = grid_obj.best_estimator_\n",
        "\n",
        "# Fit the best algorithm to the data.\n",
        "xgb_tuned.fit(X_train, y_train)"
      ],
      "id": "fIv1h5r44d2K"
    },
    {
      "cell_type": "code",
      "execution_count": 58,
      "metadata": {
        "id": "2YPBq_yi4-1E",
        "colab": {
          "base_uri": "https://localhost:8080/",
          "height": 388
        },
        "outputId": "7080a730-1c1d-482f-cca1-268bbd2a6cd5"
      },
      "outputs": [
        {
          "output_type": "stream",
          "name": "stdout",
          "text": [
            "Training performance:\n",
            "    Accuracy    Recall  Precision        F1\n",
            "0  0.756504  0.883069   0.780995  0.828901\n",
            "Testing performance:\n",
            "    Accuracy  Recall  Precision        F1\n",
            "0  0.744244  0.8762   0.771739  0.820659\n"
          ]
        },
        {
          "output_type": "display_data",
          "data": {
            "text/plain": [
              "<Figure size 432x288 with 2 Axes>"
            ],
            "image/png": "[encoded data removed]"
          },
          "metadata": {
            "needs_background": "light"
          }
        }
      ],
      "source": [
        "#Calculating different metrics\n",
        "xgb_tuned_model_train_perf=model_performance_classification_sklearn(xgb_tuned,X_train,y_train)\n",
        "print(\"Training performance:\\n\",xgb_tuned_model_train_perf)\n",
        "xgb_tuned_model_test_perf=model_performance_classification_sklearn(xgb_tuned,X_test,y_test)\n",
        "print(\"Testing performance:\\n\",xgb_tuned_model_test_perf)\n",
        "\n",
        "#Creating confusion matrix\n",
        "confusion_matrix_sklearn(xgb_tuned,X_test,y_test)"
      ],
      "id": "2YPBq_yi4-1E"
    },
    {
      "cell_type": "markdown",
      "metadata": {
        "id": "uQYqxHA7A767"
      },
      "source": [
        "* The overfitting has reduced slightly but there is not much difference in the model performance."
      ],
      "id": "uQYqxHA7A767"
    },
    {
      "cell_type": "markdown",
      "metadata": {
        "id": "w7GeJNVqFheh"
      },
      "source": [
        "## Stacking Model"
      ],
      "id": "w7GeJNVqFheh"
    },
    {
      "cell_type": "code",
      "execution_count": 59,
      "metadata": {
        "id": "-R5TljqRFmqr",
        "colab": {
          "base_uri": "https://localhost:8080/"
        },
        "outputId": "76f4ca0b-a15b-4c79-9872-e4a2fd1ac5b9"
      },
      "outputs": [
        {
          "output_type": "execute_result",
          "data": {
            "text/plain": [
              "StackingClassifier(estimators=[('Random Forest',\n",
              "                                RandomForestClassifier(max_depth=10,\n",
              "                                                       max_features='sqrt',\n",
              "                                                       min_samples_split=7,\n",
              "                                                       n_estimators=20,\n",
              "                                                       oob_score=True,\n",
              "                                                       random_state=1)),\n",
              "                               ('Gradient Boosting',\n",
              "                                GradientBoostingClassifier(init=AdaBoostClassifier(random_state=1),\n",
              "                                                           max_features=0.8,\n",
              "                                                           n_estimators=200,\n",
              "                                                           random_state=1,\n",
              "                                                           subsample=1)),\n",
              "                               ('Decision Tree',\n",
              "                                DecisionTreeClassifier(class_weight='balanced',\n",
              "                                                       max_depth=2,\n",
              "                                                       max_leaf_nodes=2,\n",
              "                                                       min_impurity_decrease=0.0001,\n",
              "                                                       random_state=1))],\n",
              "                   final_estimator=XGBClassifier(colsample_bylevel=0.9,\n",
              "                                                 colsample_bytree=0.9,\n",
              "                                                 eval_metric='logloss', gamma=5,\n",
              "                                                 n_estimators=200,\n",
              "                                                 random_state=1))"
            ]
          },
          "metadata": {},
          "execution_count": 59
        }
      ],
      "source": [
        "estimators = [('Random Forest',rf_tuned), ('Gradient Boosting',gbc_tuned), ('Decision Tree',dtree_estimator)]\n",
        "\n",
        "final_estimator = xgb_tuned\n",
        "\n",
        "stacking_classifier= StackingClassifier(estimators=estimators,final_estimator=final_estimator)\n",
        "\n",
        "stacking_classifier.fit(X_train,y_train)"
      ],
      "id": "-R5TljqRFmqr"
    },
    {
      "cell_type": "code",
      "execution_count": 60,
      "metadata": {
        "id": "gnL6ygKJFw_z",
        "colab": {
          "base_uri": "https://localhost:8080/",
          "height": 388
        },
        "outputId": "46c48727-1a58-433d-eaba-a1d4d3d61663"
      },
      "outputs": [
        {
          "output_type": "stream",
          "name": "stdout",
          "text": [
            "Training performance:\n",
            "    Accuracy    Recall  Precision        F1\n",
            "0  0.766203  0.894653   0.785235  0.836381\n",
            "Testing performance:\n",
            "    Accuracy    Recall  Precision        F1\n",
            "0  0.744636  0.881097    0.76981  0.821703\n"
          ]
        },
        {
          "output_type": "display_data",
          "data": {
            "text/plain": [
              "<Figure size 432x288 with 2 Axes>"
            ],
            "image/png": "[encoded data removed]"
          },
          "metadata": {
            "needs_background": "light"
          }
        }
      ],
      "source": [
        "#Calculating different metrics\n",
        "stacking_classifier_model_train_perf=model_performance_classification_sklearn(stacking_classifier,X_train,y_train)\n",
        "print(\"Training performance:\\n\",stacking_classifier_model_train_perf)\n",
        "stacking_classifier_model_test_perf=model_performance_classification_sklearn(stacking_classifier,X_test,y_test)\n",
        "print(\"Testing performance:\\n\",stacking_classifier_model_test_perf)\n",
        "\n",
        "#Creating confusion matrix\n",
        "confusion_matrix_sklearn(stacking_classifier,X_test,y_test)"
      ],
      "id": "gnL6ygKJFw_z"
    },
    {
      "cell_type": "markdown",
      "metadata": {
        "id": "r9CX_yKVSJcE"
      },
      "source": [
        "* The stacking classifier is giving a similar performance as compared to XGBoost with slightly more overfitting.\n",
        "\n",
        "* The confusion matrix shows that the model can identify the majority of certified application but it is better at identifying the denied applications either."
      ],
      "id": "r9CX_yKVSJcE"
    },
    {
      "cell_type": "markdown",
      "metadata": {
        "id": "a5t8tHYJGMBk"
      },
      "source": [
        "## **Important features of the final model**"
      ],
      "id": "a5t8tHYJGMBk"
    },
    {
      "cell_type": "code",
      "execution_count": 61,
      "metadata": {
        "id": "cx3S7zcsGnA-",
        "colab": {
          "base_uri": "https://localhost:8080/",
          "height": 730
        },
        "outputId": "0177e33e-97e8-4dfd-993c-8e858a43ee5b"
      },
      "outputs": [
        {
          "output_type": "display_data",
          "data": {
            "text/plain": [
              "<Figure size 864x864 with 1 Axes>"
            ],
            "image/png": "[encoded data removed]"
          },
          "metadata": {
            "needs_background": "light"
          }
        }
      ],
      "source": [
        "feature_names = X_train.columns\n",
        "importances = gb_classifier.feature_importances_\n",
        "indices = np.argsort(importances)\n",
        "\n",
        "plt.figure(figsize=(12, 12))\n",
        "plt.title(\"Feature Importances\")\n",
        "plt.barh(range(len(indices)), importances[indices], color=\"violet\", align=\"center\")\n",
        "plt.yticks(range(len(indices)), [feature_names[i] for i in indices])\n",
        "plt.xlabel(\"Relative Importance\")\n",
        "plt.show()"
      ],
      "id": "cx3S7zcsGnA-"
    },
    {
      "cell_type": "markdown",
      "metadata": {
        "id": "4ApFP5nYT3c3"
      },
      "source": [
        "* Employees who hold high school degree is the most important feature in identifying the case status followed by the employees who has previous job experience."
      ],
      "id": "4ApFP5nYT3c3"
    },
    {
      "cell_type": "markdown",
      "metadata": {
        "id": "obvious-maine"
      },
      "source": [
        "## Model Performance Comparison and Conclusions"
      ],
      "id": "obvious-maine"
    },
    {
      "cell_type": "code",
      "execution_count": 62,
      "metadata": {
        "id": "YPj7keIc13yz",
        "colab": {
          "base_uri": "https://localhost:8080/",
          "height": 289
        },
        "outputId": "b38eda2a-a6e2-4fab-957c-ce13bbc8165d"
      },
      "outputs": [
        {
          "output_type": "stream",
          "name": "stdout",
          "text": [
            "Training performance comparison:\n"
          ]
        },
        {
          "output_type": "execute_result",
          "data": {
            "text/plain": [
              "           Decision Tree  Decision Tree Estimator  Random Forest Estimator  \\\n",
              "Accuracy             1.0                 0.712548                 0.999944   \n",
              "Recall               1.0                 0.931923                 0.999916   \n",
              "Precision            1.0                 0.720067                 1.000000   \n",
              "F1                   1.0                 0.812411                 0.999958   \n",
              "\n",
              "           Random Forest Tuned  Bagging Classifier  Bagging Estimator Tuned  \\\n",
              "Accuracy              0.769119            0.985198                 0.996187   \n",
              "Recall                0.918660            0.985982                 0.999916   \n",
              "Precision             0.776556            0.991810                 0.994407   \n",
              "F1                    0.841652            0.988887                 0.997154   \n",
              "\n",
              "           Adaboost Classifier  Adabosst Classifier Tuned  \\\n",
              "Accuracy              0.738226                   0.718995   \n",
              "Recall                0.887182                   0.781247   \n",
              "Precision             0.760688                   0.794587   \n",
              "F1                    0.819080                   0.787861   \n",
              "\n",
              "           Gradient Boost Classifier  Gradient Boost Classifier Tuned  \\\n",
              "Accuracy                    0.758802                         0.764017   \n",
              "Recall                      0.883740                         0.882649   \n",
              "Precision                   0.783042                         0.789059   \n",
              "F1                          0.830349                         0.833234   \n",
              "\n",
              "           XGBoost Classifier  XGBoost Classifier Tuned  Stacking Classifier  \n",
              "Accuracy             0.756279                  0.756504             0.766203  \n",
              "Recall               0.883573                  0.883069             0.894653  \n",
              "Precision            0.780513                  0.780995             0.785235  \n",
              "F1                   0.828852                  0.828901             0.836381  "
            ],
            "text/html": [
              "\n",
              "  <div id=\"df-fb92c897-c092-4896-9ae2-21b6fc13e3a2\">\n",
              "    <div class=\"colab-df-container\">\n",
              "      <div>\n",
              "<style scoped>\n",
              "    .dataframe tbody tr th:only-of-type {\n",
              "        vertical-align: middle;\n",
              "    }\n",
              "\n",
              "    .dataframe tbody tr th {\n",
              "        vertical-align: top;\n",
              "    }\n",
              "\n",
              "    .dataframe thead th {\n",
              "        text-align: right;\n",
              "    }\n",
              "</style>\n",
              "<table border=\"1\" class=\"dataframe\">\n",
              "  <thead>\n",
              "    <tr style=\"text-align: right;\">\n",
              "      <th></th>\n",
              "      <th>Decision Tree</th>\n",
              "      <th>Decision Tree Estimator</th>\n",
              "      <th>Random Forest Estimator</th>\n",
              "      <th>Random Forest Tuned</th>\n",
              "      <th>Bagging Classifier</th>\n",
              "      <th>Bagging Estimator Tuned</th>\n",
              "      <th>Adaboost Classifier</th>\n",
              "      <th>Adabosst Classifier Tuned</th>\n",
              "      <th>Gradient Boost Classifier</th>\n",
              "      <th>Gradient Boost Classifier Tuned</th>\n",
              "      <th>XGBoost Classifier</th>\n",
              "      <th>XGBoost Classifier Tuned</th>\n",
              "      <th>Stacking Classifier</th>\n",
              "    </tr>\n",
              "  </thead>\n",
              "  <tbody>\n",
              "    <tr>\n",
              "      <th>Accuracy</th>\n",
              "      <td>1.0</td>\n",
              "      <td>0.712548</td>\n",
              "      <td>0.999944</td>\n",
              "      <td>0.769119</td>\n",
              "      <td>0.985198</td>\n",
              "      <td>0.996187</td>\n",
              "      <td>0.738226</td>\n",
              "      <td>0.718995</td>\n",
              "      <td>0.758802</td>\n",
              "      <td>0.764017</td>\n",
              "      <td>0.756279</td>\n",
              "      <td>0.756504</td>\n",
              "      <td>0.766203</td>\n",
              "    </tr>\n",
              "    <tr>\n",
              "      <th>Recall</th>\n",
              "      <td>1.0</td>\n",
              "      <td>0.931923</td>\n",
              "      <td>0.999916</td>\n",
              "      <td>0.918660</td>\n",
              "      <td>0.985982</td>\n",
              "      <td>0.999916</td>\n",
              "      <td>0.887182</td>\n",
              "      <td>0.781247</td>\n",
              "      <td>0.883740</td>\n",
              "      <td>0.882649</td>\n",
              "      <td>0.883573</td>\n",
              "      <td>0.883069</td>\n",
              "      <td>0.894653</td>\n",
              "    </tr>\n",
              "    <tr>\n",
              "      <th>Precision</th>\n",
              "      <td>1.0</td>\n",
              "      <td>0.720067</td>\n",
              "      <td>1.000000</td>\n",
              "      <td>0.776556</td>\n",
              "      <td>0.991810</td>\n",
              "      <td>0.994407</td>\n",
              "      <td>0.760688</td>\n",
              "      <td>0.794587</td>\n",
              "      <td>0.783042</td>\n",
              "      <td>0.789059</td>\n",
              "      <td>0.780513</td>\n",
              "      <td>0.780995</td>\n",
              "      <td>0.785235</td>\n",
              "    </tr>\n",
              "    <tr>\n",
              "      <th>F1</th>\n",
              "      <td>1.0</td>\n",
              "      <td>0.812411</td>\n",
              "      <td>0.999958</td>\n",
              "      <td>0.841652</td>\n",
              "      <td>0.988887</td>\n",
              "      <td>0.997154</td>\n",
              "      <td>0.819080</td>\n",
              "      <td>0.787861</td>\n",
              "      <td>0.830349</td>\n",
              "      <td>0.833234</td>\n",
              "      <td>0.828852</td>\n",
              "      <td>0.828901</td>\n",
              "      <td>0.836381</td>\n",
              "    </tr>\n",
              "  </tbody>\n",
              "</table>\n",
              "</div>\n",
              "      <button class=\"colab-df-convert\" onclick=\"convertToInteractive('df-fb92c897-c092-4896-9ae2-21b6fc13e3a2')\"\n",
              "              title=\"Convert this dataframe to an interactive table.\"\n",
              "              style=\"display:none;\">\n",
              "        \n",
              "  <svg xmlns=\"http://www.w3.org/2000/svg\" height=\"24px\"viewBox=\"0 0 24 24\"\n",
              "       width=\"24px\">\n",
              "    <path d=\"M0 0h24v24H0V0z\" fill=\"none\"/>\n",
              "    <path d=\"M18.56 5.44l.94 2.06.94-2.06 2.06-.94-2.06-.94-.94-2.06-.94 2.06-2.06.94zm-11 1L8.5 8.5l.94-2.06 2.06-.94-2.06-.94L8.5 2.5l-.94 2.06-2.06.94zm10 10l.94 2.06.94-2.06 2.06-.94-2.06-.94-.94-2.06-.94 2.06-2.06.94z\"/><path d=\"M17.41 7.96l-1.37-1.37c-.4-.4-.92-.59-1.43-.59-.52 0-1.04.2-1.43.59L10.3 9.45l-7.72 7.72c-.78.78-.78 2.05 0 2.83L4 21.41c.39.39.9.59 1.41.59.51 0 1.02-.2 1.41-.59l7.78-7.78 2.81-2.81c.8-.78.8-2.07 0-2.86zM5.41 20L4 18.59l7.72-7.72 1.47 1.35L5.41 20z\"/>\n",
              "  </svg>\n",
              "      </button>\n",
              "      \n",
              "  <style>\n",
              "    .colab-df-container {\n",
              "      display:flex;\n",
              "      flex-wrap:wrap;\n",
              "      gap: 12px;\n",
              "    }\n",
              "\n",
              "    .colab-df-convert {\n",
              "      background-color: #E8F0FE;\n",
              "      border: none;\n",
              "      border-radius: 50%;\n",
              "      cursor: pointer;\n",
              "      display: none;\n",
              "      fill: #1967D2;\n",
              "      height: 32px;\n",
              "      padding: 0 0 0 0;\n",
              "      width: 32px;\n",
              "    }\n",
              "\n",
              "    .colab-df-convert:hover {\n",
              "      background-color: #E2EBFA;\n",
              "      box-shadow: 0px 1px 2px rgba(60, 64, 67, 0.3), 0px 1px 3px 1px rgba(60, 64, 67, 0.15);\n",
              "      fill: #174EA6;\n",
              "    }\n",
              "\n",
              "    [theme=dark] .colab-df-convert {\n",
              "      background-color: #3B4455;\n",
              "      fill: #D2E3FC;\n",
              "    }\n",
              "\n",
              "    [theme=dark] .colab-df-convert:hover {\n",
              "      background-color: #434B5C;\n",
              "      box-shadow: 0px 1px 3px 1px rgba(0, 0, 0, 0.15);\n",
              "      filter: drop-shadow(0px 1px 2px rgba(0, 0, 0, 0.3));\n",
              "      fill: #FFFFFF;\n",
              "    }\n",
              "  </style>\n",
              "\n",
              "      <script>\n",
              "        const buttonEl =\n",
              "          document.querySelector('#df-fb92c897-c092-4896-9ae2-21b6fc13e3a2 button.colab-df-convert');\n",
              "        buttonEl.style.display =\n",
              "          google.colab.kernel.accessAllowed ? 'block' : 'none';\n",
              "\n",
              "        async function convertToInteractive(key) {\n",
              "          const element = document.querySelector('#df-fb92c897-c092-4896-9ae2-21b6fc13e3a2');\n",
              "          const dataTable =\n",
              "            await google.colab.kernel.invokeFunction('convertToInteractive',\n",
              "                                                     [key], {});\n",
              "          if (!dataTable) return;\n",
              "\n",
              "          const docLinkHtml = 'Like what you see? Visit the ' +\n",
              "            '<a target=\"_blank\" href=https://colab.research.google.com/notebooks/data_table.ipynb>data table notebook</a>'\n",
              "            + ' to learn more about interactive tables.';\n",
              "          element.innerHTML = '';\n",
              "          dataTable['output_type'] = 'display_data';\n",
              "          await google.colab.output.renderOutput(dataTable, element);\n",
              "          const docLink = document.createElement('div');\n",
              "          docLink.innerHTML = docLinkHtml;\n",
              "          element.appendChild(docLink);\n",
              "        }\n",
              "      </script>\n",
              "    </div>\n",
              "  </div>\n",
              "  "
            ]
          },
          "metadata": {},
          "execution_count": 62
        }
      ],
      "source": [
        "# training performance comparison\n",
        "\n",
        "models_train_comp_df = pd.concat(\n",
        "    [d_tree_model_train_perf.T,dtree_estimator_model_train_perf.T,rf_estimator_model_train_perf.T,rf_tuned_model_train_perf.T,\n",
        "     bagging_classifier_model_train_perf.T,bagging_estimator_tuned_model_train_perf.T,ab_classifier_model_train_perf.T,\n",
        "     abc_tuned_model_train_perf.T,gb_classifier_model_train_perf.T,gbc_tuned_model_train_perf.T,xgb_classifier_model_train_perf.T,\n",
        "    xgb_tuned_model_train_perf.T,stacking_classifier_model_train_perf.T],\n",
        "    axis=1,\n",
        ")\n",
        "models_train_comp_df.columns = [\n",
        "    \"Decision Tree\",\n",
        "    \"Decision Tree Estimator\",\n",
        "    \"Random Forest Estimator\",\n",
        "    \"Random Forest Tuned\",\n",
        "    \"Bagging Classifier\",\n",
        "    \"Bagging Estimator Tuned\",\n",
        "    \"Adaboost Classifier\",\n",
        "    \"Adabosst Classifier Tuned\",\n",
        "    \"Gradient Boost Classifier\",\n",
        "    \"Gradient Boost Classifier Tuned\",\n",
        "    \"XGBoost Classifier\",\n",
        "    \"XGBoost Classifier Tuned\",\n",
        "    \"Stacking Classifier\"]\n",
        "print(\"Training performance comparison:\")\n",
        "models_train_comp_df"
      ],
      "id": "YPj7keIc13yz"
    },
    {
      "cell_type": "code",
      "execution_count": 63,
      "metadata": {
        "id": "nKQl_TyrHiTU",
        "colab": {
          "base_uri": "https://localhost:8080/",
          "height": 289
        },
        "outputId": "2840ef19-21f8-4d26-c52e-378094fb09cd"
      },
      "outputs": [
        {
          "output_type": "stream",
          "name": "stdout",
          "text": [
            "Testing performance comparison:\n"
          ]
        },
        {
          "output_type": "execute_result",
          "data": {
            "text/plain": [
              "           Decision Tree  Decision Tree Estimator  Random Forest Estimator  \\\n",
              "Accuracy        0.664835                 0.706567                 0.720827   \n",
              "Recall          0.742801                 0.930852                 0.832125   \n",
              "Precision       0.752232                 0.715447                 0.768869   \n",
              "F1              0.747487                 0.809058                 0.799247   \n",
              "\n",
              "           Random Forest Tuned  Bagging Classifier  Bagging Estimator Tuned  \\\n",
              "Accuracy              0.738095            0.691523                 0.724228   \n",
              "Recall                0.898923            0.764153                 0.895397   \n",
              "Precision             0.755391            0.771711                 0.743857   \n",
              "F1                    0.820930            0.767913                 0.812622   \n",
              "\n",
              "           Adaboost Classifier  Adabosst Classifier Tuned  \\\n",
              "Accuracy              0.734301                   0.716510   \n",
              "Recall                0.885015                   0.781391   \n",
              "Precision             0.757799                   0.791468   \n",
              "F1                    0.816481                   0.786397   \n",
              "\n",
              "           Gradient Boost Classifier  Gradient Boost Classifier Tuned  \\\n",
              "Accuracy                    0.744767                         0.743459   \n",
              "Recall                      0.876004                         0.871303   \n",
              "Precision                   0.772366                         0.773296   \n",
              "F1                          0.820927                         0.819379   \n",
              "\n",
              "           XGBoost Classifier  XGBoost Classifier Tuned  Stacking Classifier  \n",
              "Accuracy             0.744636                  0.744244             0.744636  \n",
              "Recall               0.877375                  0.876200             0.881097  \n",
              "Precision            0.771576                  0.771739             0.769810  \n",
              "F1                   0.821082                  0.820659             0.821703  "
            ],
            "text/html": [
              "\n",
              "  <div id=\"df-7e31d934-d82a-4f3e-9a4d-248f49b45574\">\n",
              "    <div class=\"colab-df-container\">\n",
              "      <div>\n",
              "<style scoped>\n",
              "    .dataframe tbody tr th:only-of-type {\n",
              "        vertical-align: middle;\n",
              "    }\n",
              "\n",
              "    .dataframe tbody tr th {\n",
              "        vertical-align: top;\n",
              "    }\n",
              "\n",
              "    .dataframe thead th {\n",
              "        text-align: right;\n",
              "    }\n",
              "</style>\n",
              "<table border=\"1\" class=\"dataframe\">\n",
              "  <thead>\n",
              "    <tr style=\"text-align: right;\">\n",
              "      <th></th>\n",
              "      <th>Decision Tree</th>\n",
              "      <th>Decision Tree Estimator</th>\n",
              "      <th>Random Forest Estimator</th>\n",
              "      <th>Random Forest Tuned</th>\n",
              "      <th>Bagging Classifier</th>\n",
              "      <th>Bagging Estimator Tuned</th>\n",
              "      <th>Adaboost Classifier</th>\n",
              "      <th>Adabosst Classifier Tuned</th>\n",
              "      <th>Gradient Boost Classifier</th>\n",
              "      <th>Gradient Boost Classifier Tuned</th>\n",
              "      <th>XGBoost Classifier</th>\n",
              "      <th>XGBoost Classifier Tuned</th>\n",
              "      <th>Stacking Classifier</th>\n",
              "    </tr>\n",
              "  </thead>\n",
              "  <tbody>\n",
              "    <tr>\n",
              "      <th>Accuracy</th>\n",
              "      <td>0.664835</td>\n",
              "      <td>0.706567</td>\n",
              "      <td>0.720827</td>\n",
              "      <td>0.738095</td>\n",
              "      <td>0.691523</td>\n",
              "      <td>0.724228</td>\n",
              "      <td>0.734301</td>\n",
              "      <td>0.716510</td>\n",
              "      <td>0.744767</td>\n",
              "      <td>0.743459</td>\n",
              "      <td>0.744636</td>\n",
              "      <td>0.744244</td>\n",
              "      <td>0.744636</td>\n",
              "    </tr>\n",
              "    <tr>\n",
              "      <th>Recall</th>\n",
              "      <td>0.742801</td>\n",
              "      <td>0.930852</td>\n",
              "      <td>0.832125</td>\n",
              "      <td>0.898923</td>\n",
              "      <td>0.764153</td>\n",
              "      <td>0.895397</td>\n",
              "      <td>0.885015</td>\n",
              "      <td>0.781391</td>\n",
              "      <td>0.876004</td>\n",
              "      <td>0.871303</td>\n",
              "      <td>0.877375</td>\n",
              "      <td>0.876200</td>\n",
              "      <td>0.881097</td>\n",
              "    </tr>\n",
              "    <tr>\n",
              "      <th>Precision</th>\n",
              "      <td>0.752232</td>\n",
              "      <td>0.715447</td>\n",
              "      <td>0.768869</td>\n",
              "      <td>0.755391</td>\n",
              "      <td>0.771711</td>\n",
              "      <td>0.743857</td>\n",
              "      <td>0.757799</td>\n",
              "      <td>0.791468</td>\n",
              "      <td>0.772366</td>\n",
              "      <td>0.773296</td>\n",
              "      <td>0.771576</td>\n",
              "      <td>0.771739</td>\n",
              "      <td>0.769810</td>\n",
              "    </tr>\n",
              "    <tr>\n",
              "      <th>F1</th>\n",
              "      <td>0.747487</td>\n",
              "      <td>0.809058</td>\n",
              "      <td>0.799247</td>\n",
              "      <td>0.820930</td>\n",
              "      <td>0.767913</td>\n",
              "      <td>0.812622</td>\n",
              "      <td>0.816481</td>\n",
              "      <td>0.786397</td>\n",
              "      <td>0.820927</td>\n",
              "      <td>0.819379</td>\n",
              "      <td>0.821082</td>\n",
              "      <td>0.820659</td>\n",
              "      <td>0.821703</td>\n",
              "    </tr>\n",
              "  </tbody>\n",
              "</table>\n",
              "</div>\n",
              "      <button class=\"colab-df-convert\" onclick=\"convertToInteractive('df-7e31d934-d82a-4f3e-9a4d-248f49b45574')\"\n",
              "              title=\"Convert this dataframe to an interactive table.\"\n",
              "              style=\"display:none;\">\n",
              "        \n",
              "  <svg xmlns=\"http://www.w3.org/2000/svg\" height=\"24px\"viewBox=\"0 0 24 24\"\n",
              "       width=\"24px\">\n",
              "    <path d=\"M0 0h24v24H0V0z\" fill=\"none\"/>\n",
              "    <path d=\"M18.56 5.44l.94 2.06.94-2.06 2.06-.94-2.06-.94-.94-2.06-.94 2.06-2.06.94zm-11 1L8.5 8.5l.94-2.06 2.06-.94-2.06-.94L8.5 2.5l-.94 2.06-2.06.94zm10 10l.94 2.06.94-2.06 2.06-.94-2.06-.94-.94-2.06-.94 2.06-2.06.94z\"/><path d=\"M17.41 7.96l-1.37-1.37c-.4-.4-.92-.59-1.43-.59-.52 0-1.04.2-1.43.59L10.3 9.45l-7.72 7.72c-.78.78-.78 2.05 0 2.83L4 21.41c.39.39.9.59 1.41.59.51 0 1.02-.2 1.41-.59l7.78-7.78 2.81-2.81c.8-.78.8-2.07 0-2.86zM5.41 20L4 18.59l7.72-7.72 1.47 1.35L5.41 20z\"/>\n",
              "  </svg>\n",
              "      </button>\n",
              "      \n",
              "  <style>\n",
              "    .colab-df-container {\n",
              "      display:flex;\n",
              "      flex-wrap:wrap;\n",
              "      gap: 12px;\n",
              "    }\n",
              "\n",
              "    .colab-df-convert {\n",
              "      background-color: #E8F0FE;\n",
              "      border: none;\n",
              "      border-radius: 50%;\n",
              "      cursor: pointer;\n",
              "      display: none;\n",
              "      fill: #1967D2;\n",
              "      height: 32px;\n",
              "      padding: 0 0 0 0;\n",
              "      width: 32px;\n",
              "    }\n",
              "\n",
              "    .colab-df-convert:hover {\n",
              "      background-color: #E2EBFA;\n",
              "      box-shadow: 0px 1px 2px rgba(60, 64, 67, 0.3), 0px 1px 3px 1px rgba(60, 64, 67, 0.15);\n",
              "      fill: #174EA6;\n",
              "    }\n",
              "\n",
              "    [theme=dark] .colab-df-convert {\n",
              "      background-color: #3B4455;\n",
              "      fill: #D2E3FC;\n",
              "    }\n",
              "\n",
              "    [theme=dark] .colab-df-convert:hover {\n",
              "      background-color: #434B5C;\n",
              "      box-shadow: 0px 1px 3px 1px rgba(0, 0, 0, 0.15);\n",
              "      filter: drop-shadow(0px 1px 2px rgba(0, 0, 0, 0.3));\n",
              "      fill: #FFFFFF;\n",
              "    }\n",
              "  </style>\n",
              "\n",
              "      <script>\n",
              "        const buttonEl =\n",
              "          document.querySelector('#df-7e31d934-d82a-4f3e-9a4d-248f49b45574 button.colab-df-convert');\n",
              "        buttonEl.style.display =\n",
              "          google.colab.kernel.accessAllowed ? 'block' : 'none';\n",
              "\n",
              "        async function convertToInteractive(key) {\n",
              "          const element = document.querySelector('#df-7e31d934-d82a-4f3e-9a4d-248f49b45574');\n",
              "          const dataTable =\n",
              "            await google.colab.kernel.invokeFunction('convertToInteractive',\n",
              "                                                     [key], {});\n",
              "          if (!dataTable) return;\n",
              "\n",
              "          const docLinkHtml = 'Like what you see? Visit the ' +\n",
              "            '<a target=\"_blank\" href=https://colab.research.google.com/notebooks/data_table.ipynb>data table notebook</a>'\n",
              "            + ' to learn more about interactive tables.';\n",
              "          element.innerHTML = '';\n",
              "          dataTable['output_type'] = 'display_data';\n",
              "          await google.colab.output.renderOutput(dataTable, element);\n",
              "          const docLink = document.createElement('div');\n",
              "          docLink.innerHTML = docLinkHtml;\n",
              "          element.appendChild(docLink);\n",
              "        }\n",
              "      </script>\n",
              "    </div>\n",
              "  </div>\n",
              "  "
            ]
          },
          "metadata": {},
          "execution_count": 63
        }
      ],
      "source": [
        "# testing performance comparison\n",
        "\n",
        "models_test_comp_df = pd.concat(\n",
        "    [d_tree_model_test_perf.T,dtree_estimator_model_test_perf.T,rf_estimator_model_test_perf.T,rf_tuned_model_test_perf.T,\n",
        "     bagging_classifier_model_test_perf.T,bagging_estimator_tuned_model_test_perf.T,ab_classifier_model_test_perf.T,\n",
        "     abc_tuned_model_test_perf.T,gb_classifier_model_test_perf.T,gbc_tuned_model_test_perf.T,xgb_classifier_model_test_perf.T,\n",
        "    xgb_tuned_model_test_perf.T,stacking_classifier_model_test_perf.T],\n",
        "    axis=1,\n",
        ")\n",
        "models_test_comp_df.columns = [\n",
        "    \"Decision Tree\",\n",
        "    \"Decision Tree Estimator\",\n",
        "    \"Random Forest Estimator\",\n",
        "    \"Random Forest Tuned\",\n",
        "    \"Bagging Classifier\",\n",
        "    \"Bagging Estimator Tuned\",\n",
        "    \"Adaboost Classifier\",\n",
        "    \"Adabosst Classifier Tuned\",\n",
        "    \"Gradient Boost Classifier\",\n",
        "    \"Gradient Boost Classifier Tuned\",\n",
        "    \"XGBoost Classifier\",\n",
        "    \"XGBoost Classifier Tuned\",\n",
        "    \"Stacking Classifier\"]\n",
        "print(\"Testing performance comparison:\")\n",
        "models_test_comp_df"
      ],
      "id": "nKQl_TyrHiTU"
    },
    {
      "cell_type": "markdown",
      "source": [
        "* Gradient boost classifier is giving a high F1 score ; good chance to minimize the false negative and false positive results."
      ],
      "metadata": {
        "id": "n5F0yrUYOLW8"
      },
      "id": "n5F0yrUYOLW8"
    },
    {
      "cell_type": "markdown",
      "metadata": {
        "id": "nasty-retailer"
      },
      "source": [
        "## Actionable Insights and Recommendations"
      ],
      "id": "nasty-retailer"
    },
    {
      "cell_type": "markdown",
      "source": [
        "* Based on our analysis, we can say that employees who hold high school education level is the most important feature in identifying the case status followed by the employees who has previous job experience.\n",
        "  * Other features influence the case status like: prevailing wage and employees who hold master degree.\n",
        "\n",
        "* We have chosen F1 Score metric to optimze the model , greater the F1 score higher are the chances of minimizing False Negatives and False Positives:\n",
        "  * False positive: Model predicts that the visa application will get certified but in reality, the visa application should get denied.\n",
        "\n",
        "  * False negative: Model predicts that the visa application will not get certified but in reality, the visa application should get certified\n",
        "\n",
        "**OFLC should be more precise with these important features to try to avoid any type of errors** like : A wrong employee will get the job position while US citizens will miss the opportunity to work on that position or the U.S. will lose a suitable human resource that can contribute to the economy.\n",
        "\n",
        "* The data shows that 40.2% of the employees hold a bachlor degree and 37.8% of the employees hold a master degree, however our model showed a high influence of the high school on the case status.\n",
        "  * OFLC should mention that holding a high school education level only , will be a high risk of application rejection.\n",
        "\n",
        "* The data shows that 58.1% of the employees had a job experience, and the model shows the importance of the job experience on the case status.\n",
        "  * OFLC should mention in the requirments that job experience is a must as it influences the case status to facilate the process of the visa approval.\n",
        "\n",
        "* Northeast,South and West have the same percentage of employment where\n",
        "Island is the least region for employment.\n",
        "  * OFLC can discover more job opportunites in Midwest and Island, to increase the suitable human resource that can contribute to the economy.\n",
        "\n"
      ],
      "metadata": {
        "id": "j6pgx02OlZ_l"
      },
      "id": "j6pgx02OlZ_l"
    }
  ],
  "metadata": {
    "colab": {
      "collapsed_sections": [
        "dirty-island",
        "desperate-infection",
        "seasonal-calibration",
        "alleged-spirituality",
        "difficult-union",
        "55PqdJlnE5rf",
        "t3C-Fh7wD4Qm"
      ],
      "toc_visible": true,
      "provenance": []
    },
    "kernelspec": {
      "display_name": "Python 3",
      "language": "python",
      "name": "python3"
    },
    "language_info": {
      "codemirror_mode": {
        "name": "ipython",
        "version": 3
      },
      "file_extension": ".py",
      "mimetype": "text/x-python",
      "name": "python",
      "nbconvert_exporter": "python",
      "pygments_lexer": "ipython3",
      "version": "3.8.8"
    }
  },
  "nbformat": 4,
  "nbformat_minor": 5
}